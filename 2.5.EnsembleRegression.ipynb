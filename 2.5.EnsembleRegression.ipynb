{
 "cells": [
  {
   "cell_type": "markdown",
   "metadata": {},
   "source": [
    "# ENSEMBLE MODELS\n",
    "\n",
    "1. Random Forest\n",
    "2. Gradient Boosting Machine (GBM)\n",
    "3. XGBoost\n",
    "4. Light GBM / Microsoft Product\n",
    "5. Category Boosting (CatBoost) / yandex product"
   ]
  },
  {
   "cell_type": "code",
   "execution_count": 47,
   "metadata": {},
   "outputs": [],
   "source": [
    "import numpy as np\n",
    "import pandas as pd\n",
    "import matplotlib.pyplot as plt\n",
    "import seaborn as sns\n",
    "\n",
    "from sklearn.model_selection import train_test_split, GridSearchCV\n",
    "from sklearn.metrics import mean_squared_error, r2_score\n",
    "from sklearn.preprocessing import scale\n",
    "from sklearn.preprocessing import StandardScaler\n",
    "from sklearn import model_selection\n",
    "\n",
    "from sklearn.ensemble import RandomForestRegressor\n",
    "from sklearn.ensemble import GradientBoostingRegressor\n",
    "\n"
   ]
  },
  {
   "cell_type": "code",
   "execution_count": 48,
   "metadata": {},
   "outputs": [],
   "source": [
    "df= pd.read_csv(\"/Users/User/Hitters.csv\")\n",
    "df= df.dropna()\n",
    "dms = pd.get_dummies(df[['League', 'Division', 'NewLeague']])\n",
    "y= df[\"Salary\"]\n",
    "X_= df.drop(['Salary', 'League', 'Division', 'NewLeague'], axis=1).astype('float64')\n",
    "X = pd.concat([X_, dms[[\"League_N\",\"Division_W\", \"NewLeague_N\" ]]], axis=1)\n",
    "X_train,X_test,y_train,y_test = train_test_split(X,y, test_size=.25, random_state=42)"
   ]
  },
  {
   "cell_type": "markdown",
   "metadata": {},
   "source": [
    "# <b>1. Random Forest<b/> \n",
    "(First step to ensemble methods)\n",
    "\n",
    "    The goal is to combine t predicted values produced by t decision trees\n",
    "    \n",
    "1. based on Bootstraping method\n",
    "2. drops RMSE value\n",
    "3. increases correct classification ratio\n",
    "4. drops variance and enduring againist overfitting.\n",
    "    "
   ]
  },
  {
   "cell_type": "code",
   "execution_count": 49,
   "metadata": {},
   "outputs": [
    {
     "data": {
      "text/plain": [
       "RandomForestRegressor(bootstrap=True, ccp_alpha=0.0, criterion='mse',\n",
       "                      max_depth=None, max_features='auto', max_leaf_nodes=None,\n",
       "                      max_samples=None, min_impurity_decrease=0.0,\n",
       "                      min_impurity_split=None, min_samples_leaf=1,\n",
       "                      min_samples_split=2, min_weight_fraction_leaf=0.0,\n",
       "                      n_estimators=100, n_jobs=None, oob_score=False,\n",
       "                      random_state=None, verbose=0, warm_start=False)"
      ]
     },
     "execution_count": 49,
     "metadata": {},
     "output_type": "execute_result"
    }
   ],
   "source": [
    "from sklearn.ensemble import RandomForestRegressor\n",
    "\n",
    "rf_model= RandomForestRegressor().fit(X_train, y_train)\n",
    "rf_model"
   ]
  },
  {
   "cell_type": "code",
   "execution_count": 50,
   "metadata": {},
   "outputs": [
    {
     "data": {
      "text/plain": [
       "339.2719029658862"
      ]
     },
     "execution_count": 50,
     "metadata": {},
     "output_type": "execute_result"
    }
   ],
   "source": [
    "y_pred = rf_model.predict(X_test)\n",
    "np.sqrt(mean_squared_error(y_test, y_pred))"
   ]
  },
  {
   "cell_type": "markdown",
   "metadata": {},
   "source": [
    "***Model Tuning***"
   ]
  },
  {
   "cell_type": "code",
   "execution_count": 51,
   "metadata": {},
   "outputs": [],
   "source": [
    "rf_params = {\"max_depth\":[5, 8, 10], \n",
    "             \"max_features\":[2,5,10], \n",
    "             \"n_estimators\":[200,500,1000,2000], \n",
    "             \"min_samples_split\":[2,10,80,100]}"
   ]
  },
  {
   "cell_type": "code",
   "execution_count": 52,
   "metadata": {},
   "outputs": [
    {
     "name": "stdout",
     "output_type": "stream",
     "text": [
      "Fitting 10 folds for each of 144 candidates, totalling 1440 fits\n"
     ]
    },
    {
     "name": "stderr",
     "output_type": "stream",
     "text": [
      "[Parallel(n_jobs=-1)]: Using backend LokyBackend with 4 concurrent workers.\n",
      "[Parallel(n_jobs=-1)]: Done  33 tasks      | elapsed:   27.5s\n",
      "[Parallel(n_jobs=-1)]: Done 154 tasks      | elapsed:  2.0min\n",
      "[Parallel(n_jobs=-1)]: Done 357 tasks      | elapsed:  4.8min\n",
      "[Parallel(n_jobs=-1)]: Done 640 tasks      | elapsed:  8.6min\n",
      "[Parallel(n_jobs=-1)]: Done 1005 tasks      | elapsed: 13.6min\n",
      "[Parallel(n_jobs=-1)]: Done 1440 out of 1440 | elapsed: 19.7min finished\n"
     ]
    }
   ],
   "source": [
    "# This model tuning process lasted longer than all others, b/c (3*3*4*4)*10 cv would cause 1440 fits process.\n",
    "\n",
    "rf_cv_model = GridSearchCV(RandomForestRegressor(), rf_params, cv=10, n_jobs=-1, verbose=2)\n",
    "rf_cv_model = rf_cv_model.fit(X_train, y_train)"
   ]
  },
  {
   "cell_type": "code",
   "execution_count": 53,
   "metadata": {},
   "outputs": [
    {
     "data": {
      "text/plain": [
       "{'max_depth': 5,\n",
       " 'max_features': 2,\n",
       " 'min_samples_split': 10,\n",
       " 'n_estimators': 200}"
      ]
     },
     "execution_count": 53,
     "metadata": {},
     "output_type": "execute_result"
    }
   ],
   "source": [
    "rf_cv_model.best_params_"
   ]
  },
  {
   "cell_type": "markdown",
   "metadata": {},
   "source": [
    "***Final Model***"
   ]
  },
  {
   "cell_type": "code",
   "execution_count": 54,
   "metadata": {},
   "outputs": [],
   "source": [
    "rf_tuned = RandomForestRegressor(max_depth=5, max_features=2, min_samples_split=2, n_estimators=500).fit(X_train, y_train)"
   ]
  },
  {
   "cell_type": "markdown",
   "metadata": {},
   "source": [
    "- Let's visualize the significance level of variables"
   ]
  },
  {
   "cell_type": "code",
   "execution_count": 55,
   "metadata": {},
   "outputs": [
    {
     "data": {
      "image/png": "[encoded data removed]",
      "text/plain": [
       "<Figure size 432x288 with 1 Axes>"
      ]
     },
     "metadata": {
      "needs_background": "light"
     },
     "output_type": "display_data"
    }
   ],
   "source": [
    "Importance = pd.DataFrame({'Importance':rf_tuned.feature_importances_*100},\n",
    "                         index = X_train.columns)\n",
    "\n",
    "Importance.sort_values(by = 'Importance',\n",
    "                      axis = 0,\n",
    "                      ascending = True).plot(kind = 'barh',\n",
    "                                            color = 'r')\n",
    "plt.xlabel('Variable Importance')\n",
    "plt.gca().legend_ = None"
   ]
  },
  {
   "cell_type": "markdown",
   "metadata": {},
   "source": [
    "## <b>2. Gradient Boosting Machine (GBM)<b/>\n",
    "    \n",
    "Artiklar uzerine tek bir tahminsel model formunda olan modeller serisi olusturulur. \\\n",
    "Zayif siniflandiricilarin bir araya gelip guclu bir siniflandirici olusturmasi fikrini hayata geciren algoritmadir.\\\n",
    "(Adaptive Boosting : AdaBoost)"
   ]
  },
  {
   "cell_type": "code",
   "execution_count": 56,
   "metadata": {},
   "outputs": [
    {
     "data": {
      "text/plain": [
       "GradientBoostingRegressor(alpha=0.9, ccp_alpha=0.0, criterion='friedman_mse',\n",
       "                          init=None, learning_rate=0.1, loss='ls', max_depth=3,\n",
       "                          max_features=None, max_leaf_nodes=None,\n",
       "                          min_impurity_decrease=0.0, min_impurity_split=None,\n",
       "                          min_samples_leaf=1, min_samples_split=2,\n",
       "                          min_weight_fraction_leaf=0.0, n_estimators=100,\n",
       "                          n_iter_no_change=None, presort='deprecated',\n",
       "                          random_state=None, subsample=1.0, tol=0.0001,\n",
       "                          validation_fraction=0.1, verbose=0, warm_start=False)"
      ]
     },
     "execution_count": 56,
     "metadata": {},
     "output_type": "execute_result"
    }
   ],
   "source": [
    "from sklearn.ensemble import GradientBoostingRegressor\n",
    "\n",
    "gbm_model = GradientBoostingRegressor().fit(X_train, y_train)\n",
    "gbm_model"
   ]
  },
  {
   "cell_type": "code",
   "execution_count": 57,
   "metadata": {},
   "outputs": [
    {
     "data": {
      "text/plain": [
       "347.2899690031473"
      ]
     },
     "execution_count": 57,
     "metadata": {},
     "output_type": "execute_result"
    }
   ],
   "source": [
    "y_pred = gbm_model.predict(X_test)\n",
    "np.sqrt(mean_squared_error(y_test, y_pred))"
   ]
  },
  {
   "cell_type": "markdown",
   "metadata": {},
   "source": [
    "***Model Tuning / Model Optimization***"
   ]
  },
  {
   "cell_type": "code",
   "execution_count": 58,
   "metadata": {},
   "outputs": [],
   "source": [
    "GBM_params = {\"learning_rate\":[ 0.001, 0.01, 0.1, 0.5],\n",
    "             \"max_depth\":[3,5,8,10],\n",
    "             \"n_estimators\":[100,200,500],\n",
    "             \"subsample\":[1, 0.5, 0.8],\n",
    "             \"loss\":[\"ls\",\"lad\",\"quartile\"]}"
   ]
  },
  {
   "cell_type": "code",
   "execution_count": 59,
   "metadata": {},
   "outputs": [
    {
     "name": "stdout",
     "output_type": "stream",
     "text": [
      "Fitting 10 folds for each of 432 candidates, totalling 4320 fits\n"
     ]
    },
    {
     "name": "stderr",
     "output_type": "stream",
     "text": [
      "[Parallel(n_jobs=-1)]: Using backend LokyBackend with 4 concurrent workers.\n",
      "[Parallel(n_jobs=-1)]: Done  33 tasks      | elapsed:    1.8s\n",
      "[Parallel(n_jobs=-1)]: Done 154 tasks      | elapsed:   15.9s\n",
      "[Parallel(n_jobs=-1)]: Done 357 tasks      | elapsed:   57.1s\n",
      "[Parallel(n_jobs=-1)]: Done 640 tasks      | elapsed:  2.6min\n",
      "[Parallel(n_jobs=-1)]: Done 1625 tasks      | elapsed:  5.2min\n",
      "[Parallel(n_jobs=-1)]: Done 2658 tasks      | elapsed:  8.3min\n",
      "[Parallel(n_jobs=-1)]: Done 3773 tasks      | elapsed: 12.0min\n",
      "[Parallel(n_jobs=-1)]: Done 4320 out of 4320 | elapsed: 14.1min finished\n"
     ]
    }
   ],
   "source": [
    "GBM_cv_model = GridSearchCV(GradientBoostingRegressor(), \n",
    "                            GBM_params, \n",
    "                            cv=10, n_jobs=-1, \n",
    "                            verbose=2).fit(X_train, y_train)\n",
    "# this process will take time to fit 4320"
   ]
  },
  {
   "cell_type": "code",
   "execution_count": 60,
   "metadata": {},
   "outputs": [
    {
     "data": {
      "text/plain": [
       "{'learning_rate': 0.01,\n",
       " 'loss': 'lad',\n",
       " 'max_depth': 3,\n",
       " 'n_estimators': 500,\n",
       " 'subsample': 1}"
      ]
     },
     "execution_count": 60,
     "metadata": {},
     "output_type": "execute_result"
    }
   ],
   "source": [
    "GBM_cv_model.best_params_"
   ]
  },
  {
   "cell_type": "markdown",
   "metadata": {},
   "source": [
    "***Final Model***"
   ]
  },
  {
   "cell_type": "code",
   "execution_count": 61,
   "metadata": {},
   "outputs": [],
   "source": [
    "GBM_tuned = GradientBoostingRegressor(learning_rate=0.1, loss=\"ls\", max_depth=8, n_estimators=200, subsample=0.5).fit(X_train, y_train)"
   ]
  },
  {
   "cell_type": "code",
   "execution_count": 62,
   "metadata": {},
   "outputs": [],
   "source": [
    "y_pred = GBM_tuned.predict(X_test)"
   ]
  },
  {
   "cell_type": "code",
   "execution_count": 63,
   "metadata": {},
   "outputs": [
    {
     "data": {
      "text/plain": [
       "332.48228444409443"
      ]
     },
     "execution_count": 63,
     "metadata": {},
     "output_type": "execute_result"
    }
   ],
   "source": [
    "np.sqrt(mean_squared_error(y_test, y_pred))"
   ]
  },
  {
   "cell_type": "markdown",
   "metadata": {},
   "source": [
    "***Variable Significance Level***"
   ]
  },
  {
   "cell_type": "code",
   "execution_count": 64,
   "metadata": {},
   "outputs": [
    {
     "data": {
      "image/png": "[encoded data removed]",
      "text/plain": [
       "<Figure size 432x288 with 1 Axes>"
      ]
     },
     "metadata": {
      "needs_background": "light"
     },
     "output_type": "display_data"
    }
   ],
   "source": [
    "Importance = pd.DataFrame({'Importance':GBM_tuned.feature_importances_*100},\n",
    "                         index = X_train.columns)\n",
    "Importance.sort_values(by = 'Importance',\n",
    "                      axis = 0,\n",
    "                      ascending = True).plot(kind = 'barh',\n",
    "                                            color = 'r')\n",
    "plt.xlabel('Variable Importance')\n",
    "plt.gca().legend_ = None"
   ]
  },
  {
   "cell_type": "markdown",
   "metadata": {},
   "source": [
    "## <b>3. XGBoost</b>\n",
    "\n",
    "- Developed 2014\n",
    "\n",
    "It is scalable and fast.\n",
    "Its prediction success rate is high."
   ]
  },
  {
   "cell_type": "code",
   "execution_count": 65,
   "metadata": {},
   "outputs": [
    {
     "name": "stdout",
     "output_type": "stream",
     "text": [
      "Requirement already satisfied: XGBoost in c:\\users\\user\\anaconda3\\lib\\site-packages (1.0.2)\n",
      "Requirement already satisfied: numpy in c:\\users\\user\\anaconda3\\lib\\site-packages (from XGBoost) (1.18.1)\n",
      "Requirement already satisfied: scipy in c:\\users\\user\\anaconda3\\lib\\site-packages (from XGBoost) (1.4.1)\n"
     ]
    }
   ],
   "source": [
    "!pip install XGBoost"
   ]
  },
  {
   "cell_type": "code",
   "execution_count": 66,
   "metadata": {},
   "outputs": [],
   "source": [
    "# import xgboost\n",
    "from xgboost import XGBRegressor"
   ]
  },
  {
   "cell_type": "code",
   "execution_count": 67,
   "metadata": {},
   "outputs": [
    {
     "data": {
      "text/plain": [
       "XGBRegressor(base_score=0.5, booster=None, colsample_bylevel=1,\n",
       "             colsample_bynode=1, colsample_bytree=1, gamma=0, gpu_id=-1,\n",
       "             importance_type='gain', interaction_constraints=None,\n",
       "             learning_rate=0.300000012, max_delta_step=0, max_depth=6,\n",
       "             min_child_weight=1, missing=nan, monotone_constraints=None,\n",
       "             n_estimators=100, n_jobs=0, num_parallel_tree=1,\n",
       "             objective='reg:squarederror', random_state=0, reg_alpha=0,\n",
       "             reg_lambda=1, scale_pos_weight=1, subsample=1, tree_method=None,\n",
       "             validate_parameters=False, verbosity=None)"
      ]
     },
     "execution_count": 67,
     "metadata": {},
     "output_type": "execute_result"
    }
   ],
   "source": [
    "xgb_model = XGBRegressor().fit(X_train, y_train)\n",
    "xgb_model"
   ]
  },
  {
   "cell_type": "code",
   "execution_count": 68,
   "metadata": {},
   "outputs": [
    {
     "data": {
      "text/plain": [
       "332.48228444409443"
      ]
     },
     "execution_count": 68,
     "metadata": {},
     "output_type": "execute_result"
    }
   ],
   "source": [
    "np.sqrt(mean_squared_error(y_test, y_pred))"
   ]
  },
  {
   "cell_type": "markdown",
   "metadata": {},
   "source": [
    "***Model Tuning / Model Optimization***"
   ]
  },
  {
   "cell_type": "code",
   "execution_count": 69,
   "metadata": {},
   "outputs": [],
   "source": [
    "xgb_params = {\"learning_rate\":[0.01, 0.1, 0.5],\n",
    "             \"max_depth\":[3,5,8,10],\n",
    "             \"n_estimators\":[100,200,500],\n",
    "             \"colsample_bytree\":[0.4, 0.7, 1]\n",
    "             }"
   ]
  },
  {
   "cell_type": "code",
   "execution_count": 70,
   "metadata": {},
   "outputs": [
    {
     "name": "stdout",
     "output_type": "stream",
     "text": [
      "Fitting 10 folds for each of 108 candidates, totalling 1080 fits\n"
     ]
    },
    {
     "name": "stderr",
     "output_type": "stream",
     "text": [
      "[Parallel(n_jobs=-1)]: Using backend LokyBackend with 4 concurrent workers.\n",
      "[Parallel(n_jobs=-1)]: Done  33 tasks      | elapsed:    8.5s\n",
      "[Parallel(n_jobs=-1)]: Done 154 tasks      | elapsed:   15.8s\n",
      "[Parallel(n_jobs=-1)]: Done 390 tasks      | elapsed:   26.8s\n",
      "[Parallel(n_jobs=-1)]: Done 888 tasks      | elapsed:  1.1min\n",
      "[Parallel(n_jobs=-1)]: Done 1080 out of 1080 | elapsed:  1.4min finished\n"
     ]
    }
   ],
   "source": [
    "xgb_cv_model = GridSearchCV(XGBRegressor(), xgb_params, cv=10, verbose=2, n_jobs=-1 )\n",
    "xgb_cv_model = xgb_cv_model.fit(X_train, y_train)"
   ]
  },
  {
   "cell_type": "code",
   "execution_count": 71,
   "metadata": {},
   "outputs": [
    {
     "data": {
      "text/plain": [
       "{'colsample_bytree': 0.4,\n",
       " 'learning_rate': 0.01,\n",
       " 'max_depth': 10,\n",
       " 'n_estimators': 500}"
      ]
     },
     "execution_count": 71,
     "metadata": {},
     "output_type": "execute_result"
    }
   ],
   "source": [
    "xgb_cv_model.best_params_"
   ]
  },
  {
   "cell_type": "markdown",
   "metadata": {},
   "source": [
    "***Final Model***"
   ]
  },
  {
   "cell_type": "code",
   "execution_count": 72,
   "metadata": {},
   "outputs": [
    {
     "data": {
      "text/plain": [
       "346.4695646812929"
      ]
     },
     "execution_count": 72,
     "metadata": {},
     "output_type": "execute_result"
    }
   ],
   "source": [
    "xgb_tuned = XGBRegressor(colsample_bytree=0.4, learning_rate=0.01,max_depth=10, n_estimators=500).fit(X_train,y_train)\n",
    "y_pred = xgb_tuned.predict(X_test)\n",
    "np.sqrt(mean_squared_error(y_test, y_pred))"
   ]
  },
  {
   "cell_type": "markdown",
   "metadata": {},
   "source": [
    "***variable significance level***"
   ]
  },
  {
   "cell_type": "code",
   "execution_count": 73,
   "metadata": {},
   "outputs": [
    {
     "data": {
      "image/png": "[encoded data removed]",
      "text/plain": [
       "<Figure size 432x288 with 1 Axes>"
      ]
     },
     "metadata": {
      "needs_background": "light"
     },
     "output_type": "display_data"
    }
   ],
   "source": [
    "Importance = pd.DataFrame({'Importance':xgb_tuned.feature_importances_*100},\n",
    "                         index = X_train.columns)\n",
    "Importance.sort_values(by = 'Importance',\n",
    "                      axis = 0,\n",
    "                      ascending = True).plot(kind = 'barh',\n",
    "                                            color = 'r')\n",
    "plt.xlabel('Variable Importance')\n",
    "plt.gca().legend_ = None"
   ]
  },
  {
   "cell_type": "markdown",
   "metadata": {},
   "source": [
    "# <b>4. Light GBM<b/>"
   ]
  },
  {
   "cell_type": "markdown",
   "metadata": {},
   "source": [
    "- This is  another GBM that seeks increase the performance of training suration.\n",
    "- Its performance is better\n",
    "- It has Leaf-wise growth strategy instead of Level-wise growth // Leaf-wise growth: karar agaclari odakli, Level-wise growth: split odakli\n",
    "- It has Depth-first Search(DFS) instead of Breadth-first Search (BFS)"
   ]
  },
  {
   "cell_type": "code",
   "execution_count": 74,
   "metadata": {},
   "outputs": [
    {
     "name": "stdout",
     "output_type": "stream",
     "text": [
      "Requirement already satisfied: lightgbm in c:\\users\\user\\anaconda3\\lib\\site-packages (2.3.1)\n",
      "Requirement already satisfied: scipy in c:\\users\\user\\anaconda3\\lib\\site-packages (from lightgbm) (1.4.1)\n",
      "Requirement already satisfied: scikit-learn in c:\\users\\user\\anaconda3\\lib\\site-packages (from lightgbm) (0.22.1)\n",
      "Requirement already satisfied: numpy in c:\\users\\user\\anaconda3\\lib\\site-packages (from lightgbm) (1.18.1)\n",
      "Requirement already satisfied: joblib>=0.11 in c:\\users\\user\\anaconda3\\lib\\site-packages (from scikit-learn->lightgbm) (0.14.1)\n"
     ]
    }
   ],
   "source": [
    "!pip install lightgbm"
   ]
  },
  {
   "cell_type": "code",
   "execution_count": 75,
   "metadata": {},
   "outputs": [
    {
     "data": {
      "text/plain": [
       "LGBMRegressor(boosting_type='gbdt', class_weight=None, colsample_bytree=1.0,\n",
       "              importance_type='split', learning_rate=0.1, max_depth=-1,\n",
       "              min_child_samples=20, min_child_weight=0.001, min_split_gain=0.0,\n",
       "              n_estimators=100, n_jobs=-1, num_leaves=31, objective=None,\n",
       "              random_state=None, reg_alpha=0.0, reg_lambda=0.0, silent=True,\n",
       "              subsample=1.0, subsample_for_bin=200000, subsample_freq=0)"
      ]
     },
     "execution_count": 75,
     "metadata": {},
     "output_type": "execute_result"
    }
   ],
   "source": [
    "from lightgbm import LGBMRegressor\n",
    "\n",
    "lgb_model = LGBMRegressor().fit(X_train, y_train)\n",
    "lgb_model"
   ]
  },
  {
   "cell_type": "code",
   "execution_count": 76,
   "metadata": {},
   "outputs": [
    {
     "data": {
      "text/plain": [
       "363.8712087611089"
      ]
     },
     "execution_count": 76,
     "metadata": {},
     "output_type": "execute_result"
    }
   ],
   "source": [
    "y_pred = lgb_model.predict(X_test)\n",
    "np.sqrt(mean_squared_error(y_test, y_pred))"
   ]
  },
  {
   "cell_type": "markdown",
   "metadata": {},
   "source": [
    "***Model Tuning***"
   ]
  },
  {
   "cell_type": "code",
   "execution_count": 77,
   "metadata": {},
   "outputs": [],
   "source": [
    "lgb_params = {\"learning_rate\":[0.01, 0.1, 0.5,1],\n",
    "             \"max_depth\":[1,2,3,4,5,6,7,8,9,10],\n",
    "             \"n_estimators\":[20,40,100,200,500,1000],\n",
    "             }"
   ]
  },
  {
   "cell_type": "code",
   "execution_count": 78,
   "metadata": {},
   "outputs": [
    {
     "name": "stdout",
     "output_type": "stream",
     "text": [
      "Fitting 10 folds for each of 240 candidates, totalling 2400 fits\n"
     ]
    },
    {
     "name": "stderr",
     "output_type": "stream",
     "text": [
      "[Parallel(n_jobs=-1)]: Using backend LokyBackend with 4 concurrent workers.\n",
      "[Parallel(n_jobs=-1)]: Done  92 tasks      | elapsed:    1.7s\n",
      "[Parallel(n_jobs=-1)]: Done 576 tasks      | elapsed:   19.5s\n",
      "[Parallel(n_jobs=-1)]: Done 1388 tasks      | elapsed:   46.1s\n",
      "[Parallel(n_jobs=-1)]: Done 2400 out of 2400 | elapsed:  1.4min finished\n"
     ]
    }
   ],
   "source": [
    "lgb_cv_model = GridSearchCV(LGBMRegressor(),lgb_params,cv=10, n_jobs=-1, verbose=2)\n",
    "lgb_cv_model = lgb_cv_model.fit(X_train,y_train)"
   ]
  },
  {
   "cell_type": "code",
   "execution_count": 79,
   "metadata": {},
   "outputs": [
    {
     "data": {
      "text/plain": [
       "{'learning_rate': 0.1, 'max_depth': 6, 'n_estimators': 20}"
      ]
     },
     "execution_count": 79,
     "metadata": {},
     "output_type": "execute_result"
    }
   ],
   "source": [
    "lgb_cv_model.best_params_"
   ]
  },
  {
   "cell_type": "markdown",
   "metadata": {},
   "source": [
    "***Final Model***"
   ]
  },
  {
   "cell_type": "code",
   "execution_count": 80,
   "metadata": {},
   "outputs": [
    {
     "data": {
      "text/plain": [
       "371.5044868943621"
      ]
     },
     "execution_count": 80,
     "metadata": {},
     "output_type": "execute_result"
    }
   ],
   "source": [
    "lgb_tuned = LGBMRegressor(learning_rate=.1, max_depth=6, n_estimators=20).fit(X_train, y_train)\n",
    "y_pred = lgb_tuned.predict(X_test)\n",
    "np.sqrt(mean_squared_error(y_test, y_pred))"
   ]
  },
  {
   "cell_type": "markdown",
   "metadata": {},
   "source": [
    "***Category Booting (CatBoost)***\n",
    "\n",
    "Developed in 2017 by Yandex\n",
    "\n",
    "- It is a type of GBM tackling categorical variables authomatically and quickly.\n",
    "- Categorical Variable support\n",
    "- Fast scalable GPU support\n",
    "- Fast train fast predict\n",
    "- First open-source code of Russia\n"
   ]
  },
  {
   "cell_type": "code",
   "execution_count": 81,
   "metadata": {},
   "outputs": [
    {
     "name": "stdout",
     "output_type": "stream",
     "text": [
      "Requirement already satisfied: catboost in c:\\users\\user\\anaconda3\\lib\\site-packages (0.23)\n",
      "Requirement already satisfied: pandas>=0.24.0 in c:\\users\\user\\anaconda3\\lib\\site-packages (from catboost) (1.0.1)\n",
      "Requirement already satisfied: numpy>=1.16.0 in c:\\users\\user\\anaconda3\\lib\\site-packages (from catboost) (1.18.1)\n",
      "Requirement already satisfied: plotly in c:\\users\\user\\anaconda3\\lib\\site-packages (from catboost) (4.6.0)\n",
      "Requirement already satisfied: six in c:\\users\\user\\anaconda3\\lib\\site-packages (from catboost) (1.14.0)\n",
      "Requirement already satisfied: graphviz in c:\\users\\user\\anaconda3\\lib\\site-packages (from catboost) (0.14)\n",
      "Requirement already satisfied: matplotlib in c:\\users\\user\\anaconda3\\lib\\site-packages (from catboost) (3.1.3)\n",
      "Requirement already satisfied: scipy in c:\\users\\user\\anaconda3\\lib\\site-packages (from catboost) (1.4.1)\n",
      "Requirement already satisfied: pytz>=2017.2 in c:\\users\\user\\anaconda3\\lib\\site-packages (from pandas>=0.24.0->catboost) (2019.3)\n",
      "Requirement already satisfied: python-dateutil>=2.6.1 in c:\\users\\user\\anaconda3\\lib\\site-packages (from pandas>=0.24.0->catboost) (2.8.1)\n",
      "Requirement already satisfied: retrying>=1.3.3 in c:\\users\\user\\anaconda3\\lib\\site-packages (from plotly->catboost) (1.3.3)\n",
      "Requirement already satisfied: pyparsing!=2.0.4,!=2.1.2,!=2.1.6,>=2.0.1 in c:\\users\\user\\anaconda3\\lib\\site-packages (from matplotlib->catboost) (2.4.6)\n",
      "Requirement already satisfied: kiwisolver>=1.0.1 in c:\\users\\user\\anaconda3\\lib\\site-packages (from matplotlib->catboost) (1.1.0)\n",
      "Requirement already satisfied: cycler>=0.10 in c:\\users\\user\\anaconda3\\lib\\site-packages (from matplotlib->catboost) (0.10.0)\n",
      "Requirement already satisfied: setuptools in c:\\users\\user\\anaconda3\\lib\\site-packages (from kiwisolver>=1.0.1->matplotlib->catboost) (45.2.0.post20200210)\n"
     ]
    }
   ],
   "source": [
    "!pip install catboost"
   ]
  },
  {
   "cell_type": "code",
   "execution_count": 82,
   "metadata": {
    "collapsed": true,
    "jupyter": {
     "outputs_hidden": true
    }
   },
   "outputs": [
    {
     "name": "stdout",
     "output_type": "stream",
     "text": [
      "Learning rate set to 0.029229\n",
      "0:\tlearn: 438.1974206\ttotal: 8.32ms\tremaining: 8.31s\n",
      "1:\tlearn: 432.4168868\ttotal: 15.3ms\tremaining: 7.66s\n",
      "2:\tlearn: 426.3836690\ttotal: 22ms\tremaining: 7.32s\n",
      "3:\tlearn: 420.2261014\ttotal: 28.9ms\tremaining: 7.19s\n",
      "4:\tlearn: 414.9976675\ttotal: 35.5ms\tremaining: 7.07s\n",
      "5:\tlearn: 409.6125323\ttotal: 38.6ms\tremaining: 6.4s\n",
      "6:\tlearn: 403.9277911\ttotal: 41.8ms\tremaining: 5.92s\n",
      "7:\tlearn: 398.4395285\ttotal: 45.1ms\tremaining: 5.6s\n",
      "8:\tlearn: 392.4517081\ttotal: 48.3ms\tremaining: 5.31s\n",
      "9:\tlearn: 387.4871123\ttotal: 51.5ms\tremaining: 5.09s\n",
      "10:\tlearn: 382.6230510\ttotal: 54.6ms\tremaining: 4.91s\n",
      "11:\tlearn: 378.1012454\ttotal: 58.1ms\tremaining: 4.78s\n",
      "12:\tlearn: 372.6002306\ttotal: 61.2ms\tremaining: 4.64s\n",
      "13:\tlearn: 368.4682192\ttotal: 63.7ms\tremaining: 4.49s\n",
      "14:\tlearn: 364.0565766\ttotal: 65.7ms\tremaining: 4.31s\n",
      "15:\tlearn: 359.5683249\ttotal: 67.9ms\tremaining: 4.18s\n",
      "16:\tlearn: 355.1782794\ttotal: 70.1ms\tremaining: 4.05s\n",
      "17:\tlearn: 350.4689946\ttotal: 72.4ms\tremaining: 3.95s\n",
      "18:\tlearn: 346.2553348\ttotal: 74.7ms\tremaining: 3.86s\n",
      "19:\tlearn: 341.7051884\ttotal: 77ms\tremaining: 3.77s\n",
      "20:\tlearn: 337.8343606\ttotal: 79.2ms\tremaining: 3.69s\n",
      "21:\tlearn: 333.7956702\ttotal: 81.4ms\tremaining: 3.62s\n",
      "22:\tlearn: 329.8867930\ttotal: 83.7ms\tremaining: 3.55s\n",
      "23:\tlearn: 326.1844372\ttotal: 85.8ms\tremaining: 3.49s\n",
      "24:\tlearn: 323.1315580\ttotal: 87.8ms\tremaining: 3.42s\n",
      "25:\tlearn: 319.3322885\ttotal: 89.9ms\tremaining: 3.37s\n",
      "26:\tlearn: 316.2039164\ttotal: 91.9ms\tremaining: 3.31s\n",
      "27:\tlearn: 313.2598806\ttotal: 93.9ms\tremaining: 3.26s\n",
      "28:\tlearn: 310.1086898\ttotal: 95.9ms\tremaining: 3.21s\n",
      "29:\tlearn: 307.0508553\ttotal: 97.9ms\tremaining: 3.17s\n",
      "30:\tlearn: 304.5843401\ttotal: 100ms\tremaining: 3.12s\n",
      "31:\tlearn: 301.6708432\ttotal: 102ms\tremaining: 3.09s\n",
      "32:\tlearn: 298.9175443\ttotal: 104ms\tremaining: 3.05s\n",
      "33:\tlearn: 296.1231309\ttotal: 106ms\tremaining: 3.02s\n",
      "34:\tlearn: 293.2359275\ttotal: 108ms\tremaining: 2.99s\n",
      "35:\tlearn: 290.3999850\ttotal: 111ms\tremaining: 2.96s\n",
      "36:\tlearn: 287.8958674\ttotal: 113ms\tremaining: 2.93s\n",
      "37:\tlearn: 285.6692571\ttotal: 115ms\tremaining: 2.91s\n",
      "38:\tlearn: 282.9812904\ttotal: 117ms\tremaining: 2.88s\n",
      "39:\tlearn: 280.6302291\ttotal: 119ms\tremaining: 2.85s\n",
      "40:\tlearn: 278.2767119\ttotal: 121ms\tremaining: 2.83s\n",
      "41:\tlearn: 276.0589541\ttotal: 123ms\tremaining: 2.81s\n",
      "42:\tlearn: 273.6619286\ttotal: 125ms\tremaining: 2.78s\n",
      "43:\tlearn: 271.1128163\ttotal: 127ms\tremaining: 2.76s\n",
      "44:\tlearn: 268.9091716\ttotal: 130ms\tremaining: 2.76s\n",
      "45:\tlearn: 266.3675542\ttotal: 133ms\tremaining: 2.77s\n",
      "46:\tlearn: 263.7815611\ttotal: 136ms\tremaining: 2.75s\n",
      "47:\tlearn: 261.8160223\ttotal: 138ms\tremaining: 2.73s\n",
      "48:\tlearn: 259.7109561\ttotal: 141ms\tremaining: 2.73s\n",
      "49:\tlearn: 257.7200276\ttotal: 144ms\tremaining: 2.73s\n",
      "50:\tlearn: 255.7835524\ttotal: 146ms\tremaining: 2.72s\n",
      "51:\tlearn: 253.8406902\ttotal: 150ms\tremaining: 2.73s\n",
      "52:\tlearn: 251.6896611\ttotal: 152ms\tremaining: 2.71s\n",
      "53:\tlearn: 250.0830915\ttotal: 154ms\tremaining: 2.7s\n",
      "54:\tlearn: 248.3689069\ttotal: 156ms\tremaining: 2.69s\n",
      "55:\tlearn: 246.2718937\ttotal: 158ms\tremaining: 2.67s\n",
      "56:\tlearn: 244.3923224\ttotal: 160ms\tremaining: 2.65s\n",
      "57:\tlearn: 242.3040669\ttotal: 163ms\tremaining: 2.64s\n",
      "58:\tlearn: 240.5357981\ttotal: 165ms\tremaining: 2.63s\n",
      "59:\tlearn: 238.7009594\ttotal: 167ms\tremaining: 2.62s\n",
      "60:\tlearn: 237.2676945\ttotal: 169ms\tremaining: 2.6s\n",
      "61:\tlearn: 235.7252656\ttotal: 171ms\tremaining: 2.59s\n",
      "62:\tlearn: 234.1007596\ttotal: 173ms\tremaining: 2.58s\n",
      "63:\tlearn: 232.4179971\ttotal: 175ms\tremaining: 2.56s\n",
      "64:\tlearn: 231.1643497\ttotal: 178ms\tremaining: 2.55s\n",
      "65:\tlearn: 229.6810852\ttotal: 180ms\tremaining: 2.54s\n",
      "66:\tlearn: 228.1714231\ttotal: 182ms\tremaining: 2.53s\n",
      "67:\tlearn: 226.9338286\ttotal: 184ms\tremaining: 2.52s\n",
      "68:\tlearn: 226.0780127\ttotal: 186ms\tremaining: 2.51s\n",
      "69:\tlearn: 224.6598569\ttotal: 188ms\tremaining: 2.5s\n",
      "70:\tlearn: 223.1110463\ttotal: 190ms\tremaining: 2.49s\n",
      "71:\tlearn: 221.6545694\ttotal: 192ms\tremaining: 2.48s\n",
      "72:\tlearn: 220.2670639\ttotal: 194ms\tremaining: 2.47s\n",
      "73:\tlearn: 218.9738032\ttotal: 196ms\tremaining: 2.46s\n",
      "74:\tlearn: 217.9247112\ttotal: 199ms\tremaining: 2.45s\n",
      "75:\tlearn: 216.9202490\ttotal: 201ms\tremaining: 2.44s\n",
      "76:\tlearn: 215.5989131\ttotal: 203ms\tremaining: 2.43s\n",
      "77:\tlearn: 214.3540917\ttotal: 205ms\tremaining: 2.42s\n",
      "78:\tlearn: 213.4575339\ttotal: 207ms\tremaining: 2.41s\n",
      "79:\tlearn: 212.1036261\ttotal: 209ms\tremaining: 2.4s\n",
      "80:\tlearn: 210.8030392\ttotal: 211ms\tremaining: 2.39s\n",
      "81:\tlearn: 209.5290460\ttotal: 213ms\tremaining: 2.39s\n",
      "82:\tlearn: 208.0255508\ttotal: 216ms\tremaining: 2.38s\n",
      "83:\tlearn: 206.9124270\ttotal: 218ms\tremaining: 2.37s\n",
      "84:\tlearn: 205.5903017\ttotal: 220ms\tremaining: 2.36s\n",
      "85:\tlearn: 204.6057051\ttotal: 222ms\tremaining: 2.35s\n",
      "86:\tlearn: 203.7128429\ttotal: 224ms\tremaining: 2.35s\n",
      "87:\tlearn: 202.7663836\ttotal: 226ms\tremaining: 2.34s\n",
      "88:\tlearn: 201.9026542\ttotal: 228ms\tremaining: 2.34s\n",
      "89:\tlearn: 200.7729520\ttotal: 230ms\tremaining: 2.33s\n",
      "90:\tlearn: 199.6909954\ttotal: 232ms\tremaining: 2.32s\n",
      "91:\tlearn: 198.6341430\ttotal: 234ms\tremaining: 2.31s\n",
      "92:\tlearn: 197.6117675\ttotal: 237ms\tremaining: 2.31s\n",
      "93:\tlearn: 196.5198483\ttotal: 240ms\tremaining: 2.32s\n",
      "94:\tlearn: 195.5443940\ttotal: 243ms\tremaining: 2.32s\n",
      "95:\tlearn: 194.4203970\ttotal: 245ms\tremaining: 2.31s\n",
      "96:\tlearn: 193.2677508\ttotal: 247ms\tremaining: 2.3s\n",
      "97:\tlearn: 192.1768427\ttotal: 250ms\tremaining: 2.3s\n",
      "98:\tlearn: 191.2356955\ttotal: 252ms\tremaining: 2.29s\n",
      "99:\tlearn: 189.9934546\ttotal: 255ms\tremaining: 2.29s\n",
      "100:\tlearn: 189.2719006\ttotal: 258ms\tremaining: 2.3s\n",
      "101:\tlearn: 188.1079321\ttotal: 262ms\tremaining: 2.3s\n",
      "102:\tlearn: 187.1211517\ttotal: 265ms\tremaining: 2.3s\n",
      "103:\tlearn: 185.9059118\ttotal: 267ms\tremaining: 2.3s\n",
      "104:\tlearn: 185.2620919\ttotal: 269ms\tremaining: 2.3s\n",
      "105:\tlearn: 184.4349037\ttotal: 271ms\tremaining: 2.29s\n",
      "106:\tlearn: 183.1846237\ttotal: 273ms\tremaining: 2.28s\n",
      "107:\tlearn: 182.1448077\ttotal: 275ms\tremaining: 2.27s\n",
      "108:\tlearn: 181.4787170\ttotal: 278ms\tremaining: 2.27s\n",
      "109:\tlearn: 180.6789032\ttotal: 280ms\tremaining: 2.26s\n",
      "110:\tlearn: 179.9122461\ttotal: 282ms\tremaining: 2.26s\n",
      "111:\tlearn: 178.9952892\ttotal: 285ms\tremaining: 2.26s\n",
      "112:\tlearn: 178.6013107\ttotal: 287ms\tremaining: 2.25s\n",
      "113:\tlearn: 177.7090692\ttotal: 290ms\tremaining: 2.25s\n",
      "114:\tlearn: 176.7404828\ttotal: 292ms\tremaining: 2.24s\n",
      "115:\tlearn: 176.0415402\ttotal: 294ms\tremaining: 2.24s\n",
      "116:\tlearn: 175.5315148\ttotal: 296ms\tremaining: 2.23s\n",
      "117:\tlearn: 174.8976738\ttotal: 298ms\tremaining: 2.23s\n",
      "118:\tlearn: 174.0530870\ttotal: 300ms\tremaining: 2.22s\n",
      "119:\tlearn: 173.0700181\ttotal: 302ms\tremaining: 2.21s\n",
      "120:\tlearn: 172.2832739\ttotal: 304ms\tremaining: 2.21s\n",
      "121:\tlearn: 171.4960220\ttotal: 306ms\tremaining: 2.2s\n",
      "122:\tlearn: 171.0402978\ttotal: 308ms\tremaining: 2.2s\n",
      "123:\tlearn: 170.7119169\ttotal: 310ms\tremaining: 2.19s\n",
      "124:\tlearn: 169.6907823\ttotal: 312ms\tremaining: 2.19s\n",
      "125:\tlearn: 169.2063700\ttotal: 314ms\tremaining: 2.18s\n",
      "126:\tlearn: 168.1597529\ttotal: 317ms\tremaining: 2.18s\n",
      "127:\tlearn: 167.3156403\ttotal: 319ms\tremaining: 2.17s\n",
      "128:\tlearn: 166.3187281\ttotal: 321ms\tremaining: 2.17s\n",
      "129:\tlearn: 166.1101656\ttotal: 323ms\tremaining: 2.16s\n",
      "130:\tlearn: 165.5420012\ttotal: 325ms\tremaining: 2.15s\n",
      "131:\tlearn: 164.6237022\ttotal: 327ms\tremaining: 2.15s\n",
      "132:\tlearn: 163.7646814\ttotal: 329ms\tremaining: 2.14s\n",
      "133:\tlearn: 163.3971858\ttotal: 331ms\tremaining: 2.14s\n",
      "134:\tlearn: 162.8775666\ttotal: 333ms\tremaining: 2.13s\n",
      "135:\tlearn: 162.3591190\ttotal: 335ms\tremaining: 2.13s\n",
      "136:\tlearn: 161.8515150\ttotal: 337ms\tremaining: 2.12s\n",
      "137:\tlearn: 161.2542226\ttotal: 339ms\tremaining: 2.12s\n",
      "138:\tlearn: 160.5899334\ttotal: 341ms\tremaining: 2.11s\n",
      "139:\tlearn: 159.6307999\ttotal: 344ms\tremaining: 2.11s\n",
      "140:\tlearn: 159.0055431\ttotal: 346ms\tremaining: 2.11s\n",
      "141:\tlearn: 158.2566894\ttotal: 348ms\tremaining: 2.1s\n",
      "142:\tlearn: 157.6496356\ttotal: 350ms\tremaining: 2.1s\n",
      "143:\tlearn: 157.1590393\ttotal: 352ms\tremaining: 2.09s\n",
      "144:\tlearn: 156.5730455\ttotal: 354ms\tremaining: 2.09s\n",
      "145:\tlearn: 155.8450985\ttotal: 356ms\tremaining: 2.08s\n",
      "146:\tlearn: 155.2439210\ttotal: 359ms\tremaining: 2.08s\n",
      "147:\tlearn: 154.9417796\ttotal: 361ms\tremaining: 2.08s\n",
      "148:\tlearn: 154.3763613\ttotal: 363ms\tremaining: 2.07s\n",
      "149:\tlearn: 153.9438757\ttotal: 365ms\tremaining: 2.07s\n",
      "150:\tlearn: 153.1854046\ttotal: 367ms\tremaining: 2.06s\n",
      "151:\tlearn: 152.8631442\ttotal: 369ms\tremaining: 2.06s\n",
      "152:\tlearn: 152.3115428\ttotal: 371ms\tremaining: 2.05s\n",
      "153:\tlearn: 151.8957029\ttotal: 373ms\tremaining: 2.05s\n",
      "154:\tlearn: 151.1871329\ttotal: 375ms\tremaining: 2.04s\n",
      "155:\tlearn: 150.6828564\ttotal: 377ms\tremaining: 2.04s\n",
      "156:\tlearn: 150.2509622\ttotal: 379ms\tremaining: 2.04s\n",
      "157:\tlearn: 149.6497659\ttotal: 381ms\tremaining: 2.03s\n",
      "158:\tlearn: 148.9332067\ttotal: 383ms\tremaining: 2.03s\n",
      "159:\tlearn: 148.7156418\ttotal: 385ms\tremaining: 2.02s\n",
      "160:\tlearn: 148.2737189\ttotal: 387ms\tremaining: 2.02s\n",
      "161:\tlearn: 147.9625721\ttotal: 390ms\tremaining: 2.02s\n",
      "162:\tlearn: 147.4564915\ttotal: 392ms\tremaining: 2.01s\n",
      "163:\tlearn: 146.8606991\ttotal: 394ms\tremaining: 2.01s\n",
      "164:\tlearn: 146.2386459\ttotal: 396ms\tremaining: 2s\n",
      "165:\tlearn: 145.7642228\ttotal: 398ms\tremaining: 2s\n",
      "166:\tlearn: 145.3792204\ttotal: 400ms\tremaining: 2s\n",
      "167:\tlearn: 145.0935465\ttotal: 402ms\tremaining: 1.99s\n",
      "168:\tlearn: 144.6976165\ttotal: 404ms\tremaining: 1.99s\n",
      "169:\tlearn: 143.9724403\ttotal: 406ms\tremaining: 1.98s\n",
      "170:\tlearn: 143.6449839\ttotal: 408ms\tremaining: 1.98s\n",
      "171:\tlearn: 143.1999180\ttotal: 410ms\tremaining: 1.98s\n",
      "172:\tlearn: 142.9381183\ttotal: 413ms\tremaining: 1.97s\n",
      "173:\tlearn: 142.3304601\ttotal: 415ms\tremaining: 1.97s\n",
      "174:\tlearn: 141.9229624\ttotal: 417ms\tremaining: 1.96s\n",
      "175:\tlearn: 141.4043903\ttotal: 418ms\tremaining: 1.96s\n",
      "176:\tlearn: 141.0209642\ttotal: 421ms\tremaining: 1.96s\n",
      "177:\tlearn: 140.4510865\ttotal: 423ms\tremaining: 1.95s\n",
      "178:\tlearn: 140.3441522\ttotal: 424ms\tremaining: 1.94s\n",
      "179:\tlearn: 139.8478562\ttotal: 426ms\tremaining: 1.94s\n",
      "180:\tlearn: 139.7464932\ttotal: 427ms\tremaining: 1.93s\n",
      "181:\tlearn: 139.2514614\ttotal: 429ms\tremaining: 1.93s\n",
      "182:\tlearn: 139.0274540\ttotal: 430ms\tremaining: 1.92s\n",
      "183:\tlearn: 138.4584181\ttotal: 432ms\tremaining: 1.92s\n",
      "184:\tlearn: 138.2093063\ttotal: 435ms\tremaining: 1.92s\n",
      "185:\tlearn: 137.8406250\ttotal: 438ms\tremaining: 1.92s\n",
      "186:\tlearn: 137.7280816\ttotal: 440ms\tremaining: 1.91s\n",
      "187:\tlearn: 137.2465993\ttotal: 443ms\tremaining: 1.91s\n",
      "188:\tlearn: 136.7894765\ttotal: 445ms\tremaining: 1.91s\n",
      "189:\tlearn: 136.4857311\ttotal: 447ms\tremaining: 1.9s\n",
      "190:\tlearn: 136.0043713\ttotal: 449ms\tremaining: 1.9s\n",
      "191:\tlearn: 135.7523177\ttotal: 451ms\tremaining: 1.9s\n",
      "192:\tlearn: 135.3372675\ttotal: 453ms\tremaining: 1.89s\n",
      "193:\tlearn: 135.0202084\ttotal: 455ms\tremaining: 1.89s\n",
      "194:\tlearn: 134.7757422\ttotal: 457ms\tremaining: 1.89s\n",
      "195:\tlearn: 134.3546545\ttotal: 459ms\tremaining: 1.88s\n",
      "196:\tlearn: 133.9623627\ttotal: 461ms\tremaining: 1.88s\n",
      "197:\tlearn: 133.2648869\ttotal: 463ms\tremaining: 1.88s\n",
      "198:\tlearn: 132.9318972\ttotal: 465ms\tremaining: 1.87s\n",
      "199:\tlearn: 132.5119098\ttotal: 468ms\tremaining: 1.87s\n",
      "200:\tlearn: 131.8954412\ttotal: 470ms\tremaining: 1.87s\n",
      "201:\tlearn: 131.6115557\ttotal: 471ms\tremaining: 1.86s\n",
      "202:\tlearn: 131.2095441\ttotal: 474ms\tremaining: 1.86s\n",
      "203:\tlearn: 130.6658729\ttotal: 476ms\tremaining: 1.86s\n",
      "204:\tlearn: 130.3457517\ttotal: 478ms\tremaining: 1.85s\n",
      "205:\tlearn: 130.0833818\ttotal: 480ms\tremaining: 1.85s\n",
      "206:\tlearn: 129.7238048\ttotal: 482ms\tremaining: 1.85s\n",
      "207:\tlearn: 129.0671906\ttotal: 484ms\tremaining: 1.84s\n",
      "208:\tlearn: 128.7683402\ttotal: 487ms\tremaining: 1.84s\n",
      "209:\tlearn: 128.5832593\ttotal: 488ms\tremaining: 1.84s\n",
      "210:\tlearn: 128.3749444\ttotal: 491ms\tremaining: 1.83s\n",
      "211:\tlearn: 128.1143221\ttotal: 493ms\tremaining: 1.83s\n",
      "212:\tlearn: 127.9897497\ttotal: 495ms\tremaining: 1.83s\n",
      "213:\tlearn: 127.6815659\ttotal: 497ms\tremaining: 1.82s\n",
      "214:\tlearn: 127.2006697\ttotal: 499ms\tremaining: 1.82s\n",
      "215:\tlearn: 127.0352179\ttotal: 501ms\tremaining: 1.82s\n",
      "216:\tlearn: 126.9617234\ttotal: 502ms\tremaining: 1.81s\n",
      "217:\tlearn: 126.7776328\ttotal: 504ms\tremaining: 1.81s\n",
      "218:\tlearn: 126.3802524\ttotal: 506ms\tremaining: 1.81s\n",
      "219:\tlearn: 126.1995377\ttotal: 508ms\tremaining: 1.8s\n",
      "220:\tlearn: 126.1155383\ttotal: 510ms\tremaining: 1.8s\n",
      "221:\tlearn: 125.9832799\ttotal: 513ms\tremaining: 1.8s\n",
      "222:\tlearn: 125.7495770\ttotal: 515ms\tremaining: 1.79s\n",
      "223:\tlearn: 125.2409845\ttotal: 517ms\tremaining: 1.79s\n",
      "224:\tlearn: 124.9538099\ttotal: 519ms\tremaining: 1.79s\n",
      "225:\tlearn: 124.7089151\ttotal: 521ms\tremaining: 1.78s\n",
      "226:\tlearn: 124.3984858\ttotal: 523ms\tremaining: 1.78s\n",
      "227:\tlearn: 124.0014588\ttotal: 525ms\tremaining: 1.78s\n",
      "228:\tlearn: 123.7139174\ttotal: 527ms\tremaining: 1.77s\n",
      "229:\tlearn: 123.6555034\ttotal: 528ms\tremaining: 1.77s\n",
      "230:\tlearn: 123.3398368\ttotal: 530ms\tremaining: 1.76s\n",
      "231:\tlearn: 122.7561150\ttotal: 532ms\tremaining: 1.76s\n",
      "232:\tlearn: 122.5676806\ttotal: 533ms\tremaining: 1.76s\n",
      "233:\tlearn: 122.1759040\ttotal: 536ms\tremaining: 1.75s\n",
      "234:\tlearn: 121.5761316\ttotal: 538ms\tremaining: 1.75s\n",
      "235:\tlearn: 121.3308579\ttotal: 540ms\tremaining: 1.75s\n",
      "236:\tlearn: 120.6316918\ttotal: 542ms\tremaining: 1.74s\n",
      "237:\tlearn: 120.0241441\ttotal: 544ms\tremaining: 1.74s\n",
      "238:\tlearn: 119.6974692\ttotal: 546ms\tremaining: 1.74s\n",
      "239:\tlearn: 119.5295579\ttotal: 548ms\tremaining: 1.73s\n",
      "240:\tlearn: 118.8105516\ttotal: 550ms\tremaining: 1.73s\n",
      "241:\tlearn: 118.5001438\ttotal: 552ms\tremaining: 1.73s\n",
      "242:\tlearn: 118.1525333\ttotal: 554ms\tremaining: 1.73s\n",
      "243:\tlearn: 117.8294708\ttotal: 556ms\tremaining: 1.72s\n",
      "244:\tlearn: 117.4650856\ttotal: 558ms\tremaining: 1.72s\n",
      "245:\tlearn: 117.2329146\ttotal: 560ms\tremaining: 1.72s\n",
      "246:\tlearn: 116.6281150\ttotal: 562ms\tremaining: 1.71s\n",
      "247:\tlearn: 116.4382173\ttotal: 564ms\tremaining: 1.71s\n",
      "248:\tlearn: 115.7804838\ttotal: 566ms\tremaining: 1.71s\n",
      "249:\tlearn: 115.4468389\ttotal: 568ms\tremaining: 1.7s\n",
      "250:\tlearn: 115.2535858\ttotal: 570ms\tremaining: 1.7s\n",
      "251:\tlearn: 115.0959725\ttotal: 572ms\tremaining: 1.7s\n",
      "252:\tlearn: 114.5054098\ttotal: 574ms\tremaining: 1.7s\n",
      "253:\tlearn: 114.2196805\ttotal: 576ms\tremaining: 1.69s\n",
      "254:\tlearn: 113.9389493\ttotal: 578ms\tremaining: 1.69s\n",
      "255:\tlearn: 113.8318782\ttotal: 581ms\tremaining: 1.69s\n",
      "256:\tlearn: 113.7010766\ttotal: 584ms\tremaining: 1.69s\n",
      "257:\tlearn: 113.5349213\ttotal: 586ms\tremaining: 1.69s\n",
      "258:\tlearn: 113.2939692\ttotal: 589ms\tremaining: 1.69s\n",
      "259:\tlearn: 112.8734855\ttotal: 592ms\tremaining: 1.68s\n",
      "260:\tlearn: 112.2073904\ttotal: 595ms\tremaining: 1.69s\n",
      "261:\tlearn: 111.7098455\ttotal: 598ms\tremaining: 1.68s\n",
      "262:\tlearn: 111.4861643\ttotal: 600ms\tremaining: 1.68s\n",
      "263:\tlearn: 111.4065123\ttotal: 602ms\tremaining: 1.68s\n",
      "264:\tlearn: 110.9193214\ttotal: 605ms\tremaining: 1.68s\n",
      "265:\tlearn: 110.2486713\ttotal: 606ms\tremaining: 1.67s\n",
      "266:\tlearn: 110.1718829\ttotal: 609ms\tremaining: 1.67s\n",
      "267:\tlearn: 109.8233102\ttotal: 610ms\tremaining: 1.67s\n",
      "268:\tlearn: 109.2576068\ttotal: 612ms\tremaining: 1.66s\n",
      "269:\tlearn: 109.1038965\ttotal: 614ms\tremaining: 1.66s\n",
      "270:\tlearn: 108.5183523\ttotal: 617ms\tremaining: 1.66s\n",
      "271:\tlearn: 108.4470954\ttotal: 619ms\tremaining: 1.66s\n",
      "272:\tlearn: 108.0259628\ttotal: 621ms\tremaining: 1.65s\n",
      "273:\tlearn: 107.5793316\ttotal: 623ms\tremaining: 1.65s\n",
      "274:\tlearn: 107.4747562\ttotal: 625ms\tremaining: 1.65s\n",
      "275:\tlearn: 107.4015080\ttotal: 627ms\tremaining: 1.64s\n",
      "276:\tlearn: 106.7954512\ttotal: 629ms\tremaining: 1.64s\n",
      "277:\tlearn: 106.3607188\ttotal: 631ms\tremaining: 1.64s\n",
      "278:\tlearn: 106.2892222\ttotal: 633ms\tremaining: 1.64s\n",
      "279:\tlearn: 106.1701389\ttotal: 635ms\tremaining: 1.63s\n",
      "280:\tlearn: 106.0889424\ttotal: 637ms\tremaining: 1.63s\n",
      "281:\tlearn: 105.8903610\ttotal: 639ms\tremaining: 1.63s\n",
      "282:\tlearn: 105.6531794\ttotal: 641ms\tremaining: 1.62s\n",
      "283:\tlearn: 105.3489666\ttotal: 643ms\tremaining: 1.62s\n",
      "284:\tlearn: 105.2156952\ttotal: 645ms\tremaining: 1.62s\n",
      "285:\tlearn: 104.7489850\ttotal: 648ms\tremaining: 1.62s\n",
      "286:\tlearn: 104.4701409\ttotal: 650ms\tremaining: 1.61s\n",
      "287:\tlearn: 104.3778769\ttotal: 652ms\tremaining: 1.61s\n",
      "288:\tlearn: 103.8224679\ttotal: 654ms\tremaining: 1.61s\n",
      "289:\tlearn: 103.2728523\ttotal: 656ms\tremaining: 1.6s\n",
      "290:\tlearn: 102.7341369\ttotal: 658ms\tremaining: 1.6s\n",
      "291:\tlearn: 102.5732242\ttotal: 660ms\tremaining: 1.6s\n",
      "292:\tlearn: 102.4869595\ttotal: 662ms\tremaining: 1.6s\n",
      "293:\tlearn: 101.9743362\ttotal: 664ms\tremaining: 1.59s\n",
      "294:\tlearn: 101.8782948\ttotal: 666ms\tremaining: 1.59s\n",
      "295:\tlearn: 101.3571512\ttotal: 668ms\tremaining: 1.59s\n",
      "296:\tlearn: 100.8372462\ttotal: 670ms\tremaining: 1.59s\n",
      "297:\tlearn: 100.6707783\ttotal: 673ms\tremaining: 1.58s\n",
      "298:\tlearn: 100.3215940\ttotal: 677ms\tremaining: 1.59s\n",
      "299:\tlearn: 99.8162460\ttotal: 681ms\tremaining: 1.59s\n",
      "300:\tlearn: 99.7024172\ttotal: 684ms\tremaining: 1.59s\n",
      "301:\tlearn: 99.2308832\ttotal: 687ms\tremaining: 1.59s\n",
      "302:\tlearn: 98.7981083\ttotal: 691ms\tremaining: 1.59s\n",
      "303:\tlearn: 98.6418362\ttotal: 694ms\tremaining: 1.59s\n",
      "304:\tlearn: 98.1248564\ttotal: 697ms\tremaining: 1.59s\n",
      "305:\tlearn: 97.9442581\ttotal: 701ms\tremaining: 1.59s\n",
      "306:\tlearn: 97.5091297\ttotal: 704ms\tremaining: 1.59s\n",
      "307:\tlearn: 97.0381695\ttotal: 707ms\tremaining: 1.59s\n",
      "308:\tlearn: 96.5858904\ttotal: 709ms\tremaining: 1.59s\n",
      "309:\tlearn: 96.4466124\ttotal: 713ms\tremaining: 1.59s\n",
      "310:\tlearn: 95.9786304\ttotal: 716ms\tremaining: 1.58s\n",
      "311:\tlearn: 95.5390501\ttotal: 718ms\tremaining: 1.58s\n",
      "312:\tlearn: 95.3241323\ttotal: 721ms\tremaining: 1.58s\n",
      "313:\tlearn: 95.1166839\ttotal: 724ms\tremaining: 1.58s\n",
      "314:\tlearn: 94.6729021\ttotal: 726ms\tremaining: 1.58s\n",
      "315:\tlearn: 94.2571678\ttotal: 729ms\tremaining: 1.58s\n",
      "316:\tlearn: 93.9414786\ttotal: 731ms\tremaining: 1.57s\n",
      "317:\tlearn: 93.7804159\ttotal: 733ms\tremaining: 1.57s\n",
      "318:\tlearn: 93.5413306\ttotal: 735ms\tremaining: 1.57s\n",
      "319:\tlearn: 93.4280107\ttotal: 737ms\tremaining: 1.57s\n",
      "320:\tlearn: 92.9986302\ttotal: 739ms\tremaining: 1.56s\n",
      "321:\tlearn: 92.9421610\ttotal: 741ms\tremaining: 1.56s\n",
      "322:\tlearn: 92.4662692\ttotal: 744ms\tremaining: 1.56s\n",
      "323:\tlearn: 92.0455485\ttotal: 747ms\tremaining: 1.56s\n",
      "324:\tlearn: 91.6664667\ttotal: 751ms\tremaining: 1.56s\n",
      "325:\tlearn: 91.5600717\ttotal: 755ms\tremaining: 1.56s\n",
      "326:\tlearn: 91.5004974\ttotal: 757ms\tremaining: 1.56s\n",
      "327:\tlearn: 91.0716355\ttotal: 761ms\tremaining: 1.56s\n",
      "328:\tlearn: 90.6376777\ttotal: 764ms\tremaining: 1.56s\n",
      "329:\tlearn: 90.2132341\ttotal: 767ms\tremaining: 1.56s\n",
      "330:\tlearn: 90.1525801\ttotal: 770ms\tremaining: 1.55s\n",
      "331:\tlearn: 89.7879501\ttotal: 773ms\tremaining: 1.55s\n",
      "332:\tlearn: 89.3626218\ttotal: 776ms\tremaining: 1.55s\n",
      "333:\tlearn: 89.1274526\ttotal: 778ms\tremaining: 1.55s\n",
      "334:\tlearn: 88.7222011\ttotal: 781ms\tremaining: 1.55s\n",
      "335:\tlearn: 88.5311901\ttotal: 784ms\tremaining: 1.55s\n",
      "336:\tlearn: 88.0699983\ttotal: 787ms\tremaining: 1.55s\n",
      "337:\tlearn: 87.6737037\ttotal: 790ms\tremaining: 1.55s\n",
      "338:\tlearn: 87.3069085\ttotal: 794ms\tremaining: 1.55s\n",
      "339:\tlearn: 86.8639700\ttotal: 797ms\tremaining: 1.55s\n",
      "340:\tlearn: 86.7339532\ttotal: 802ms\tremaining: 1.55s\n",
      "341:\tlearn: 86.5677333\ttotal: 804ms\tremaining: 1.55s\n",
      "342:\tlearn: 86.4361752\ttotal: 806ms\tremaining: 1.54s\n",
      "343:\tlearn: 86.2469458\ttotal: 808ms\tremaining: 1.54s\n",
      "344:\tlearn: 86.1967306\ttotal: 810ms\tremaining: 1.54s\n",
      "345:\tlearn: 86.0709863\ttotal: 812ms\tremaining: 1.53s\n",
      "346:\tlearn: 85.6398833\ttotal: 814ms\tremaining: 1.53s\n",
      "347:\tlearn: 85.5979263\ttotal: 817ms\tremaining: 1.53s\n",
      "348:\tlearn: 85.4437261\ttotal: 819ms\tremaining: 1.53s\n",
      "349:\tlearn: 85.0669752\ttotal: 821ms\tremaining: 1.52s\n",
      "350:\tlearn: 85.0164116\ttotal: 823ms\tremaining: 1.52s\n",
      "351:\tlearn: 84.6350071\ttotal: 825ms\tremaining: 1.52s\n",
      "352:\tlearn: 84.1473245\ttotal: 827ms\tremaining: 1.51s\n",
      "353:\tlearn: 83.8115391\ttotal: 829ms\tremaining: 1.51s\n",
      "354:\tlearn: 83.4823620\ttotal: 831ms\tremaining: 1.51s\n",
      "355:\tlearn: 83.1595406\ttotal: 833ms\tremaining: 1.51s\n",
      "356:\tlearn: 82.7280745\ttotal: 835ms\tremaining: 1.5s\n",
      "357:\tlearn: 82.6210086\ttotal: 837ms\tremaining: 1.5s\n",
      "358:\tlearn: 82.3077194\ttotal: 839ms\tremaining: 1.5s\n",
      "359:\tlearn: 81.9112073\ttotal: 841ms\tremaining: 1.5s\n",
      "360:\tlearn: 81.5518193\ttotal: 843ms\tremaining: 1.49s\n",
      "361:\tlearn: 81.4267033\ttotal: 845ms\tremaining: 1.49s\n",
      "362:\tlearn: 81.0255982\ttotal: 847ms\tremaining: 1.49s\n",
      "363:\tlearn: 80.6891175\ttotal: 849ms\tremaining: 1.48s\n",
      "364:\tlearn: 80.4390711\ttotal: 851ms\tremaining: 1.48s\n",
      "365:\tlearn: 80.1232319\ttotal: 853ms\tremaining: 1.48s\n",
      "366:\tlearn: 80.0808756\ttotal: 855ms\tremaining: 1.48s\n",
      "367:\tlearn: 79.7090424\ttotal: 858ms\tremaining: 1.47s\n",
      "368:\tlearn: 79.3969152\ttotal: 860ms\tremaining: 1.47s\n",
      "369:\tlearn: 79.0731259\ttotal: 862ms\tremaining: 1.47s\n",
      "370:\tlearn: 78.9862934\ttotal: 864ms\tremaining: 1.46s\n",
      "371:\tlearn: 78.7730476\ttotal: 866ms\tremaining: 1.46s\n",
      "372:\tlearn: 78.6302158\ttotal: 868ms\tremaining: 1.46s\n",
      "373:\tlearn: 78.5184111\ttotal: 870ms\tremaining: 1.46s\n",
      "374:\tlearn: 78.3814955\ttotal: 872ms\tremaining: 1.45s\n",
      "375:\tlearn: 77.9622261\ttotal: 874ms\tremaining: 1.45s\n",
      "376:\tlearn: 77.8601787\ttotal: 876ms\tremaining: 1.45s\n",
      "377:\tlearn: 77.7650898\ttotal: 878ms\tremaining: 1.45s\n",
      "378:\tlearn: 77.3945927\ttotal: 880ms\tremaining: 1.44s\n",
      "379:\tlearn: 77.3348237\ttotal: 883ms\tremaining: 1.44s\n",
      "380:\tlearn: 77.2431856\ttotal: 885ms\tremaining: 1.44s\n",
      "381:\tlearn: 76.9192891\ttotal: 887ms\tremaining: 1.43s\n",
      "382:\tlearn: 76.7949544\ttotal: 889ms\tremaining: 1.43s\n",
      "383:\tlearn: 76.5217530\ttotal: 891ms\tremaining: 1.43s\n",
      "384:\tlearn: 76.1648512\ttotal: 893ms\tremaining: 1.43s\n",
      "385:\tlearn: 75.9867656\ttotal: 895ms\tremaining: 1.42s\n",
      "386:\tlearn: 75.7293435\ttotal: 897ms\tremaining: 1.42s\n",
      "387:\tlearn: 75.6419805\ttotal: 899ms\tremaining: 1.42s\n",
      "388:\tlearn: 75.3138222\ttotal: 901ms\tremaining: 1.42s\n",
      "389:\tlearn: 75.0125736\ttotal: 903ms\tremaining: 1.41s\n",
      "390:\tlearn: 74.9803725\ttotal: 905ms\tremaining: 1.41s\n",
      "391:\tlearn: 74.6113970\ttotal: 908ms\tremaining: 1.41s\n",
      "392:\tlearn: 74.3668766\ttotal: 911ms\tremaining: 1.41s\n",
      "393:\tlearn: 74.2752147\ttotal: 913ms\tremaining: 1.4s\n",
      "394:\tlearn: 74.2172412\ttotal: 915ms\tremaining: 1.4s\n",
      "395:\tlearn: 73.8652110\ttotal: 917ms\tremaining: 1.4s\n",
      "396:\tlearn: 73.6963645\ttotal: 919ms\tremaining: 1.4s\n",
      "397:\tlearn: 73.4075086\ttotal: 921ms\tremaining: 1.39s\n",
      "398:\tlearn: 73.0346771\ttotal: 923ms\tremaining: 1.39s\n",
      "399:\tlearn: 72.9971586\ttotal: 925ms\tremaining: 1.39s\n",
      "400:\tlearn: 72.6755493\ttotal: 927ms\tremaining: 1.38s\n",
      "401:\tlearn: 72.5972282\ttotal: 929ms\tremaining: 1.38s\n",
      "402:\tlearn: 72.4345974\ttotal: 931ms\tremaining: 1.38s\n",
      "403:\tlearn: 72.2185716\ttotal: 933ms\tremaining: 1.38s\n",
      "404:\tlearn: 71.9251032\ttotal: 935ms\tremaining: 1.37s\n",
      "405:\tlearn: 71.8901544\ttotal: 937ms\tremaining: 1.37s\n",
      "406:\tlearn: 71.5338422\ttotal: 940ms\tremaining: 1.37s\n",
      "407:\tlearn: 71.4477827\ttotal: 942ms\tremaining: 1.37s\n",
      "408:\tlearn: 71.4127550\ttotal: 944ms\tremaining: 1.36s\n",
      "409:\tlearn: 71.3322454\ttotal: 946ms\tremaining: 1.36s\n",
      "410:\tlearn: 71.2981804\ttotal: 948ms\tremaining: 1.36s\n",
      "411:\tlearn: 71.0089173\ttotal: 950ms\tremaining: 1.35s\n",
      "412:\tlearn: 70.7854493\ttotal: 952ms\tremaining: 1.35s\n",
      "413:\tlearn: 70.4930103\ttotal: 954ms\tremaining: 1.35s\n",
      "414:\tlearn: 70.1976578\ttotal: 956ms\tremaining: 1.35s\n",
      "415:\tlearn: 69.9565552\ttotal: 958ms\tremaining: 1.34s\n",
      "416:\tlearn: 69.8912103\ttotal: 960ms\tremaining: 1.34s\n",
      "417:\tlearn: 69.7356706\ttotal: 963ms\tremaining: 1.34s\n",
      "418:\tlearn: 69.6634412\ttotal: 965ms\tremaining: 1.34s\n",
      "419:\tlearn: 69.2943609\ttotal: 967ms\tremaining: 1.33s\n",
      "420:\tlearn: 69.0269983\ttotal: 969ms\tremaining: 1.33s\n",
      "421:\tlearn: 68.8653561\ttotal: 971ms\tremaining: 1.33s\n",
      "422:\tlearn: 68.6555281\ttotal: 973ms\tremaining: 1.33s\n",
      "423:\tlearn: 68.2338294\ttotal: 975ms\tremaining: 1.32s\n",
      "424:\tlearn: 68.0909898\ttotal: 977ms\tremaining: 1.32s\n",
      "425:\tlearn: 67.7905722\ttotal: 980ms\tremaining: 1.32s\n",
      "426:\tlearn: 67.5586853\ttotal: 982ms\tremaining: 1.32s\n",
      "427:\tlearn: 67.3518839\ttotal: 984ms\tremaining: 1.31s\n",
      "428:\tlearn: 67.2029794\ttotal: 986ms\tremaining: 1.31s\n",
      "429:\tlearn: 66.9467892\ttotal: 988ms\tremaining: 1.31s\n",
      "430:\tlearn: 66.7821891\ttotal: 990ms\tremaining: 1.31s\n",
      "431:\tlearn: 66.4955741\ttotal: 992ms\tremaining: 1.3s\n",
      "432:\tlearn: 66.2240359\ttotal: 994ms\tremaining: 1.3s\n",
      "433:\tlearn: 65.9832136\ttotal: 996ms\tremaining: 1.3s\n",
      "434:\tlearn: 65.7761577\ttotal: 998ms\tremaining: 1.3s\n",
      "435:\tlearn: 65.4845025\ttotal: 1s\tremaining: 1.29s\n",
      "436:\tlearn: 65.4215937\ttotal: 1s\tremaining: 1.29s\n",
      "437:\tlearn: 65.1768197\ttotal: 1s\tremaining: 1.29s\n",
      "438:\tlearn: 65.1071642\ttotal: 1.01s\tremaining: 1.29s\n",
      "439:\tlearn: 65.0705857\ttotal: 1.01s\tremaining: 1.28s\n",
      "440:\tlearn: 64.7782864\ttotal: 1.01s\tremaining: 1.28s\n",
      "441:\tlearn: 64.5284944\ttotal: 1.01s\tremaining: 1.28s\n",
      "442:\tlearn: 64.3504433\ttotal: 1.01s\tremaining: 1.27s\n",
      "443:\tlearn: 64.3001112\ttotal: 1.02s\tremaining: 1.27s\n",
      "444:\tlearn: 63.9063758\ttotal: 1.02s\tremaining: 1.27s\n",
      "445:\tlearn: 63.8746707\ttotal: 1.02s\tremaining: 1.27s\n",
      "446:\tlearn: 63.5487944\ttotal: 1.02s\tremaining: 1.26s\n",
      "447:\tlearn: 63.3406893\ttotal: 1.02s\tremaining: 1.26s\n",
      "448:\tlearn: 63.0992921\ttotal: 1.03s\tremaining: 1.26s\n",
      "449:\tlearn: 62.8676535\ttotal: 1.03s\tremaining: 1.26s\n",
      "450:\tlearn: 62.6978975\ttotal: 1.03s\tremaining: 1.25s\n",
      "451:\tlearn: 62.4888356\ttotal: 1.03s\tremaining: 1.25s\n",
      "452:\tlearn: 62.4591033\ttotal: 1.04s\tremaining: 1.25s\n",
      "453:\tlearn: 62.3981355\ttotal: 1.04s\tremaining: 1.25s\n",
      "454:\tlearn: 62.2755114\ttotal: 1.04s\tremaining: 1.25s\n",
      "455:\tlearn: 62.0286915\ttotal: 1.04s\tremaining: 1.25s\n",
      "456:\tlearn: 61.8101493\ttotal: 1.05s\tremaining: 1.24s\n",
      "457:\tlearn: 61.7125436\ttotal: 1.05s\tremaining: 1.24s\n",
      "458:\tlearn: 61.3464743\ttotal: 1.05s\tremaining: 1.24s\n",
      "459:\tlearn: 61.0777407\ttotal: 1.05s\tremaining: 1.24s\n",
      "460:\tlearn: 60.7354015\ttotal: 1.05s\tremaining: 1.23s\n",
      "461:\tlearn: 60.7070785\ttotal: 1.06s\tremaining: 1.23s\n",
      "462:\tlearn: 60.4380726\ttotal: 1.06s\tremaining: 1.23s\n",
      "463:\tlearn: 60.3794644\ttotal: 1.06s\tremaining: 1.23s\n",
      "464:\tlearn: 60.3096146\ttotal: 1.06s\tremaining: 1.23s\n",
      "465:\tlearn: 60.2803998\ttotal: 1.07s\tremaining: 1.22s\n",
      "466:\tlearn: 60.2489158\ttotal: 1.07s\tremaining: 1.22s\n",
      "467:\tlearn: 60.2187601\ttotal: 1.07s\tremaining: 1.22s\n",
      "468:\tlearn: 59.9901529\ttotal: 1.07s\tremaining: 1.22s\n",
      "469:\tlearn: 59.7821357\ttotal: 1.07s\tremaining: 1.21s\n",
      "470:\tlearn: 59.7334527\ttotal: 1.08s\tremaining: 1.21s\n",
      "471:\tlearn: 59.4989600\ttotal: 1.08s\tremaining: 1.21s\n",
      "472:\tlearn: 59.1865219\ttotal: 1.08s\tremaining: 1.21s\n",
      "473:\tlearn: 58.9478658\ttotal: 1.08s\tremaining: 1.2s\n",
      "474:\tlearn: 58.6836425\ttotal: 1.09s\tremaining: 1.2s\n",
      "475:\tlearn: 58.6522637\ttotal: 1.09s\tremaining: 1.2s\n",
      "476:\tlearn: 58.5963542\ttotal: 1.09s\tremaining: 1.2s\n",
      "477:\tlearn: 58.3648296\ttotal: 1.1s\tremaining: 1.2s\n",
      "478:\tlearn: 58.3188915\ttotal: 1.1s\tremaining: 1.2s\n",
      "479:\tlearn: 58.1813689\ttotal: 1.1s\tremaining: 1.19s\n",
      "480:\tlearn: 57.9437076\ttotal: 1.1s\tremaining: 1.19s\n",
      "481:\tlearn: 57.7694232\ttotal: 1.11s\tremaining: 1.19s\n",
      "482:\tlearn: 57.7437082\ttotal: 1.11s\tremaining: 1.19s\n",
      "483:\tlearn: 57.5081532\ttotal: 1.11s\tremaining: 1.18s\n",
      "484:\tlearn: 57.2134650\ttotal: 1.11s\tremaining: 1.18s\n",
      "485:\tlearn: 56.9733344\ttotal: 1.11s\tremaining: 1.18s\n",
      "486:\tlearn: 56.9412760\ttotal: 1.12s\tremaining: 1.18s\n",
      "487:\tlearn: 56.8640335\ttotal: 1.12s\tremaining: 1.17s\n",
      "488:\tlearn: 56.5624625\ttotal: 1.12s\tremaining: 1.17s\n",
      "489:\tlearn: 56.4986179\ttotal: 1.12s\tremaining: 1.17s\n",
      "490:\tlearn: 56.3527490\ttotal: 1.13s\tremaining: 1.17s\n",
      "491:\tlearn: 56.0961642\ttotal: 1.13s\tremaining: 1.16s\n",
      "492:\tlearn: 55.8256120\ttotal: 1.13s\tremaining: 1.16s\n",
      "493:\tlearn: 55.6150160\ttotal: 1.13s\tremaining: 1.16s\n",
      "494:\tlearn: 55.5631279\ttotal: 1.13s\tremaining: 1.16s\n",
      "495:\tlearn: 55.3736400\ttotal: 1.14s\tremaining: 1.15s\n",
      "496:\tlearn: 55.3441677\ttotal: 1.14s\tremaining: 1.15s\n",
      "497:\tlearn: 55.1995384\ttotal: 1.14s\tremaining: 1.15s\n",
      "498:\tlearn: 54.8980322\ttotal: 1.14s\tremaining: 1.15s\n",
      "499:\tlearn: 54.7119603\ttotal: 1.15s\tremaining: 1.15s\n",
      "500:\tlearn: 54.6236591\ttotal: 1.15s\tremaining: 1.14s\n",
      "501:\tlearn: 54.4131558\ttotal: 1.15s\tremaining: 1.14s\n",
      "502:\tlearn: 54.3901230\ttotal: 1.15s\tremaining: 1.14s\n",
      "503:\tlearn: 54.3662021\ttotal: 1.16s\tremaining: 1.14s\n",
      "504:\tlearn: 54.2068745\ttotal: 1.16s\tremaining: 1.13s\n",
      "505:\tlearn: 54.1800600\ttotal: 1.16s\tremaining: 1.13s\n",
      "506:\tlearn: 54.1376632\ttotal: 1.16s\tremaining: 1.13s\n",
      "507:\tlearn: 53.9788342\ttotal: 1.16s\tremaining: 1.13s\n",
      "508:\tlearn: 53.9294324\ttotal: 1.17s\tremaining: 1.13s\n",
      "509:\tlearn: 53.6786369\ttotal: 1.17s\tremaining: 1.12s\n",
      "510:\tlearn: 53.4578789\ttotal: 1.17s\tremaining: 1.12s\n",
      "511:\tlearn: 53.3261204\ttotal: 1.17s\tremaining: 1.12s\n",
      "512:\tlearn: 53.1331329\ttotal: 1.18s\tremaining: 1.11s\n",
      "513:\tlearn: 52.9261288\ttotal: 1.18s\tremaining: 1.11s\n",
      "514:\tlearn: 52.7447311\ttotal: 1.18s\tremaining: 1.11s\n",
      "515:\tlearn: 52.5966869\ttotal: 1.18s\tremaining: 1.11s\n",
      "516:\tlearn: 52.4130565\ttotal: 1.18s\tremaining: 1.1s\n",
      "517:\tlearn: 52.1948654\ttotal: 1.19s\tremaining: 1.1s\n",
      "518:\tlearn: 51.9463802\ttotal: 1.19s\tremaining: 1.1s\n",
      "519:\tlearn: 51.9178306\ttotal: 1.19s\tremaining: 1.1s\n",
      "520:\tlearn: 51.7246141\ttotal: 1.19s\tremaining: 1.1s\n",
      "521:\tlearn: 51.5669648\ttotal: 1.19s\tremaining: 1.09s\n",
      "522:\tlearn: 51.5221972\ttotal: 1.2s\tremaining: 1.09s\n",
      "523:\tlearn: 51.3293697\ttotal: 1.2s\tremaining: 1.09s\n",
      "524:\tlearn: 51.1767477\ttotal: 1.2s\tremaining: 1.09s\n",
      "525:\tlearn: 51.0961343\ttotal: 1.2s\tremaining: 1.08s\n",
      "526:\tlearn: 50.9995340\ttotal: 1.21s\tremaining: 1.08s\n",
      "527:\tlearn: 50.8846082\ttotal: 1.21s\tremaining: 1.08s\n",
      "528:\tlearn: 50.7478794\ttotal: 1.21s\tremaining: 1.08s\n",
      "529:\tlearn: 50.5116322\ttotal: 1.21s\tremaining: 1.07s\n",
      "530:\tlearn: 50.2760468\ttotal: 1.21s\tremaining: 1.07s\n",
      "531:\tlearn: 50.1040144\ttotal: 1.22s\tremaining: 1.07s\n",
      "532:\tlearn: 49.8827812\ttotal: 1.22s\tremaining: 1.07s\n",
      "533:\tlearn: 49.8255711\ttotal: 1.22s\tremaining: 1.07s\n",
      "534:\tlearn: 49.7890438\ttotal: 1.22s\tremaining: 1.06s\n",
      "535:\tlearn: 49.6290340\ttotal: 1.23s\tremaining: 1.06s\n",
      "536:\tlearn: 49.3965889\ttotal: 1.23s\tremaining: 1.06s\n",
      "537:\tlearn: 49.1641285\ttotal: 1.23s\tremaining: 1.06s\n",
      "538:\tlearn: 48.9654180\ttotal: 1.23s\tremaining: 1.05s\n",
      "539:\tlearn: 48.9278341\ttotal: 1.23s\tremaining: 1.05s\n",
      "540:\tlearn: 48.8457405\ttotal: 1.24s\tremaining: 1.05s\n",
      "541:\tlearn: 48.8041804\ttotal: 1.24s\tremaining: 1.05s\n",
      "542:\tlearn: 48.7179291\ttotal: 1.24s\tremaining: 1.04s\n",
      "543:\tlearn: 48.6759771\ttotal: 1.24s\tremaining: 1.04s\n",
      "544:\tlearn: 48.4792967\ttotal: 1.25s\tremaining: 1.04s\n",
      "545:\tlearn: 48.3843114\ttotal: 1.25s\tremaining: 1.04s\n",
      "546:\tlearn: 48.2453957\ttotal: 1.25s\tremaining: 1.03s\n",
      "547:\tlearn: 48.0231685\ttotal: 1.25s\tremaining: 1.03s\n",
      "548:\tlearn: 47.8612203\ttotal: 1.25s\tremaining: 1.03s\n",
      "549:\tlearn: 47.7590091\ttotal: 1.26s\tremaining: 1.03s\n",
      "550:\tlearn: 47.6561968\ttotal: 1.26s\tremaining: 1.02s\n",
      "551:\tlearn: 47.4106594\ttotal: 1.26s\tremaining: 1.02s\n",
      "552:\tlearn: 47.2194456\ttotal: 1.26s\tremaining: 1.02s\n",
      "553:\tlearn: 47.0783850\ttotal: 1.26s\tremaining: 1.02s\n",
      "554:\tlearn: 46.8215038\ttotal: 1.27s\tremaining: 1.01s\n",
      "555:\tlearn: 46.6674572\ttotal: 1.27s\tremaining: 1.01s\n",
      "556:\tlearn: 46.6418726\ttotal: 1.27s\tremaining: 1.01s\n",
      "557:\tlearn: 46.5248666\ttotal: 1.27s\tremaining: 1.01s\n",
      "558:\tlearn: 46.5061320\ttotal: 1.27s\tremaining: 1s\n",
      "559:\tlearn: 46.4397708\ttotal: 1.28s\tremaining: 1s\n",
      "560:\tlearn: 46.3904442\ttotal: 1.28s\tremaining: 1s\n",
      "561:\tlearn: 46.2576989\ttotal: 1.28s\tremaining: 998ms\n",
      "562:\tlearn: 45.9568721\ttotal: 1.28s\tremaining: 996ms\n",
      "563:\tlearn: 45.8482033\ttotal: 1.28s\tremaining: 993ms\n",
      "564:\tlearn: 45.6689466\ttotal: 1.29s\tremaining: 991ms\n",
      "565:\tlearn: 45.4222796\ttotal: 1.29s\tremaining: 989ms\n",
      "566:\tlearn: 45.2404146\ttotal: 1.29s\tremaining: 987ms\n",
      "567:\tlearn: 45.0903054\ttotal: 1.29s\tremaining: 985ms\n",
      "568:\tlearn: 44.7991969\ttotal: 1.3s\tremaining: 982ms\n",
      "569:\tlearn: 44.6413756\ttotal: 1.3s\tremaining: 980ms\n",
      "570:\tlearn: 44.5799550\ttotal: 1.3s\tremaining: 977ms\n",
      "571:\tlearn: 44.5651506\ttotal: 1.3s\tremaining: 975ms\n",
      "572:\tlearn: 44.4233165\ttotal: 1.3s\tremaining: 973ms\n",
      "573:\tlearn: 44.2369747\ttotal: 1.31s\tremaining: 970ms\n",
      "574:\tlearn: 44.0545664\ttotal: 1.31s\tremaining: 968ms\n",
      "575:\tlearn: 43.9004385\ttotal: 1.31s\tremaining: 965ms\n",
      "576:\tlearn: 43.7138119\ttotal: 1.31s\tremaining: 963ms\n",
      "577:\tlearn: 43.5755556\ttotal: 1.31s\tremaining: 960ms\n",
      "578:\tlearn: 43.4934072\ttotal: 1.32s\tremaining: 958ms\n",
      "579:\tlearn: 43.4629843\ttotal: 1.32s\tremaining: 956ms\n",
      "580:\tlearn: 43.3825129\ttotal: 1.32s\tremaining: 953ms\n",
      "581:\tlearn: 43.2549166\ttotal: 1.32s\tremaining: 951ms\n",
      "582:\tlearn: 43.1514800\ttotal: 1.32s\tremaining: 948ms\n",
      "583:\tlearn: 42.9846414\ttotal: 1.33s\tremaining: 946ms\n",
      "584:\tlearn: 42.8538804\ttotal: 1.33s\tremaining: 944ms\n",
      "585:\tlearn: 42.7710806\ttotal: 1.33s\tremaining: 942ms\n",
      "586:\tlearn: 42.5351412\ttotal: 1.33s\tremaining: 939ms\n",
      "587:\tlearn: 42.4784055\ttotal: 1.34s\tremaining: 937ms\n",
      "588:\tlearn: 42.3174788\ttotal: 1.34s\tremaining: 934ms\n",
      "589:\tlearn: 42.1761529\ttotal: 1.34s\tremaining: 932ms\n",
      "590:\tlearn: 42.0486059\ttotal: 1.34s\tremaining: 929ms\n",
      "591:\tlearn: 41.8689529\ttotal: 1.34s\tremaining: 927ms\n",
      "592:\tlearn: 41.8306286\ttotal: 1.35s\tremaining: 924ms\n",
      "593:\tlearn: 41.6966124\ttotal: 1.35s\tremaining: 922ms\n",
      "594:\tlearn: 41.6647082\ttotal: 1.35s\tremaining: 920ms\n",
      "595:\tlearn: 41.5609917\ttotal: 1.35s\tremaining: 917ms\n",
      "596:\tlearn: 41.4632566\ttotal: 1.35s\tremaining: 915ms\n",
      "597:\tlearn: 41.3899602\ttotal: 1.36s\tremaining: 912ms\n",
      "598:\tlearn: 41.2152047\ttotal: 1.36s\tremaining: 910ms\n",
      "599:\tlearn: 41.0959753\ttotal: 1.36s\tremaining: 908ms\n",
      "600:\tlearn: 40.9815009\ttotal: 1.36s\tremaining: 905ms\n",
      "601:\tlearn: 40.8912971\ttotal: 1.36s\tremaining: 903ms\n",
      "602:\tlearn: 40.7881395\ttotal: 1.37s\tremaining: 900ms\n",
      "603:\tlearn: 40.6325570\ttotal: 1.37s\tremaining: 898ms\n",
      "604:\tlearn: 40.4083902\ttotal: 1.37s\tremaining: 896ms\n",
      "605:\tlearn: 40.3292737\ttotal: 1.38s\tremaining: 895ms\n",
      "606:\tlearn: 40.2629492\ttotal: 1.38s\tremaining: 892ms\n",
      "607:\tlearn: 40.2448471\ttotal: 1.38s\tremaining: 890ms\n",
      "608:\tlearn: 40.2293673\ttotal: 1.38s\tremaining: 888ms\n",
      "609:\tlearn: 40.0978829\ttotal: 1.38s\tremaining: 885ms\n",
      "610:\tlearn: 40.0512268\ttotal: 1.39s\tremaining: 883ms\n",
      "611:\tlearn: 39.8920221\ttotal: 1.39s\tremaining: 880ms\n",
      "612:\tlearn: 39.8591122\ttotal: 1.39s\tremaining: 878ms\n",
      "613:\tlearn: 39.7261911\ttotal: 1.39s\tremaining: 875ms\n",
      "614:\tlearn: 39.6986628\ttotal: 1.39s\tremaining: 873ms\n",
      "615:\tlearn: 39.5659851\ttotal: 1.4s\tremaining: 871ms\n",
      "616:\tlearn: 39.4815274\ttotal: 1.4s\tremaining: 868ms\n",
      "617:\tlearn: 39.3682607\ttotal: 1.4s\tremaining: 866ms\n",
      "618:\tlearn: 39.2643803\ttotal: 1.4s\tremaining: 863ms\n",
      "619:\tlearn: 39.1307437\ttotal: 1.4s\tremaining: 861ms\n",
      "620:\tlearn: 38.9596117\ttotal: 1.41s\tremaining: 859ms\n",
      "621:\tlearn: 38.8456302\ttotal: 1.41s\tremaining: 856ms\n",
      "622:\tlearn: 38.7810676\ttotal: 1.41s\tremaining: 854ms\n",
      "623:\tlearn: 38.7450983\ttotal: 1.41s\tremaining: 851ms\n",
      "624:\tlearn: 38.6788090\ttotal: 1.42s\tremaining: 849ms\n",
      "625:\tlearn: 38.5788475\ttotal: 1.42s\tremaining: 847ms\n",
      "626:\tlearn: 38.4675366\ttotal: 1.42s\tremaining: 844ms\n",
      "627:\tlearn: 38.2350724\ttotal: 1.42s\tremaining: 842ms\n",
      "628:\tlearn: 38.2074221\ttotal: 1.42s\tremaining: 840ms\n",
      "629:\tlearn: 38.0622880\ttotal: 1.43s\tremaining: 837ms\n",
      "630:\tlearn: 37.8520281\ttotal: 1.43s\tremaining: 835ms\n",
      "631:\tlearn: 37.6631204\ttotal: 1.43s\tremaining: 832ms\n",
      "632:\tlearn: 37.5153877\ttotal: 1.43s\tremaining: 830ms\n",
      "633:\tlearn: 37.3834892\ttotal: 1.43s\tremaining: 828ms\n",
      "634:\tlearn: 37.2552166\ttotal: 1.44s\tremaining: 825ms\n",
      "635:\tlearn: 37.0779047\ttotal: 1.44s\tremaining: 823ms\n",
      "636:\tlearn: 37.0329263\ttotal: 1.44s\tremaining: 821ms\n",
      "637:\tlearn: 36.8927982\ttotal: 1.44s\tremaining: 818ms\n",
      "638:\tlearn: 36.8105498\ttotal: 1.44s\tremaining: 816ms\n",
      "639:\tlearn: 36.7512624\ttotal: 1.45s\tremaining: 814ms\n",
      "640:\tlearn: 36.5891302\ttotal: 1.45s\tremaining: 811ms\n",
      "641:\tlearn: 36.4551656\ttotal: 1.45s\tremaining: 809ms\n",
      "642:\tlearn: 36.4318588\ttotal: 1.45s\tremaining: 806ms\n",
      "643:\tlearn: 36.4074785\ttotal: 1.45s\tremaining: 804ms\n",
      "644:\tlearn: 36.2579510\ttotal: 1.46s\tremaining: 802ms\n",
      "645:\tlearn: 36.1413504\ttotal: 1.46s\tremaining: 799ms\n",
      "646:\tlearn: 36.0078406\ttotal: 1.46s\tremaining: 797ms\n",
      "647:\tlearn: 35.8909828\ttotal: 1.46s\tremaining: 795ms\n",
      "648:\tlearn: 35.7426906\ttotal: 1.46s\tremaining: 792ms\n",
      "649:\tlearn: 35.5963108\ttotal: 1.47s\tremaining: 790ms\n",
      "650:\tlearn: 35.4623805\ttotal: 1.47s\tremaining: 788ms\n",
      "651:\tlearn: 35.4428004\ttotal: 1.47s\tremaining: 785ms\n",
      "652:\tlearn: 35.3007158\ttotal: 1.47s\tremaining: 783ms\n",
      "653:\tlearn: 35.1510309\ttotal: 1.48s\tremaining: 781ms\n",
      "654:\tlearn: 35.1258328\ttotal: 1.48s\tremaining: 779ms\n",
      "655:\tlearn: 35.0183795\ttotal: 1.48s\tremaining: 777ms\n",
      "656:\tlearn: 34.9003271\ttotal: 1.49s\tremaining: 775ms\n",
      "657:\tlearn: 34.7887445\ttotal: 1.49s\tremaining: 773ms\n",
      "658:\tlearn: 34.6253676\ttotal: 1.49s\tremaining: 771ms\n",
      "659:\tlearn: 34.5506116\ttotal: 1.49s\tremaining: 769ms\n",
      "660:\tlearn: 34.4197699\ttotal: 1.49s\tremaining: 766ms\n",
      "661:\tlearn: 34.3097495\ttotal: 1.5s\tremaining: 764ms\n",
      "662:\tlearn: 34.1572027\ttotal: 1.5s\tremaining: 762ms\n",
      "663:\tlearn: 34.1441284\ttotal: 1.5s\tremaining: 760ms\n",
      "664:\tlearn: 34.0600732\ttotal: 1.5s\tremaining: 757ms\n",
      "665:\tlearn: 34.0500587\ttotal: 1.5s\tremaining: 755ms\n",
      "666:\tlearn: 33.9193340\ttotal: 1.51s\tremaining: 753ms\n",
      "667:\tlearn: 33.7564013\ttotal: 1.51s\tremaining: 750ms\n",
      "668:\tlearn: 33.6528749\ttotal: 1.51s\tremaining: 748ms\n",
      "669:\tlearn: 33.5681199\ttotal: 1.51s\tremaining: 746ms\n",
      "670:\tlearn: 33.4451433\ttotal: 1.51s\tremaining: 743ms\n",
      "671:\tlearn: 33.3468901\ttotal: 1.52s\tremaining: 741ms\n",
      "672:\tlearn: 33.2486282\ttotal: 1.52s\tremaining: 738ms\n",
      "673:\tlearn: 33.2302888\ttotal: 1.52s\tremaining: 736ms\n",
      "674:\tlearn: 33.0558859\ttotal: 1.52s\tremaining: 734ms\n",
      "675:\tlearn: 32.9700344\ttotal: 1.52s\tremaining: 731ms\n",
      "676:\tlearn: 32.8501642\ttotal: 1.53s\tremaining: 729ms\n",
      "677:\tlearn: 32.7340426\ttotal: 1.53s\tremaining: 727ms\n",
      "678:\tlearn: 32.7121017\ttotal: 1.53s\tremaining: 725ms\n",
      "679:\tlearn: 32.6200569\ttotal: 1.54s\tremaining: 723ms\n",
      "680:\tlearn: 32.5052371\ttotal: 1.54s\tremaining: 721ms\n",
      "681:\tlearn: 32.3916969\ttotal: 1.54s\tremaining: 718ms\n",
      "682:\tlearn: 32.2925704\ttotal: 1.54s\tremaining: 716ms\n",
      "683:\tlearn: 32.1901836\ttotal: 1.54s\tremaining: 714ms\n",
      "684:\tlearn: 32.1810795\ttotal: 1.55s\tremaining: 711ms\n",
      "685:\tlearn: 32.0538798\ttotal: 1.55s\tremaining: 709ms\n",
      "686:\tlearn: 31.9695880\ttotal: 1.55s\tremaining: 707ms\n",
      "687:\tlearn: 31.8186240\ttotal: 1.55s\tremaining: 705ms\n",
      "688:\tlearn: 31.7717776\ttotal: 1.55s\tremaining: 702ms\n",
      "689:\tlearn: 31.6271069\ttotal: 1.56s\tremaining: 700ms\n",
      "690:\tlearn: 31.4257754\ttotal: 1.56s\tremaining: 698ms\n",
      "691:\tlearn: 31.3158018\ttotal: 1.56s\tremaining: 695ms\n",
      "692:\tlearn: 31.2062456\ttotal: 1.56s\tremaining: 693ms\n",
      "693:\tlearn: 31.1002943\ttotal: 1.57s\tremaining: 691ms\n",
      "694:\tlearn: 31.0204694\ttotal: 1.57s\tremaining: 689ms\n",
      "695:\tlearn: 30.8638326\ttotal: 1.57s\tremaining: 686ms\n",
      "696:\tlearn: 30.8558418\ttotal: 1.57s\tremaining: 684ms\n",
      "697:\tlearn: 30.7168233\ttotal: 1.57s\tremaining: 682ms\n",
      "698:\tlearn: 30.6741149\ttotal: 1.58s\tremaining: 679ms\n",
      "699:\tlearn: 30.5633505\ttotal: 1.58s\tremaining: 677ms\n",
      "700:\tlearn: 30.3980151\ttotal: 1.58s\tremaining: 675ms\n",
      "701:\tlearn: 30.3868882\ttotal: 1.58s\tremaining: 673ms\n",
      "702:\tlearn: 30.3095110\ttotal: 1.59s\tremaining: 671ms\n",
      "703:\tlearn: 30.2001626\ttotal: 1.59s\tremaining: 668ms\n",
      "704:\tlearn: 30.1086639\ttotal: 1.59s\tremaining: 667ms\n",
      "705:\tlearn: 30.0062050\ttotal: 1.59s\tremaining: 665ms\n",
      "706:\tlearn: 29.9366332\ttotal: 1.6s\tremaining: 663ms\n",
      "707:\tlearn: 29.8514157\ttotal: 1.6s\tremaining: 661ms\n",
      "708:\tlearn: 29.8410197\ttotal: 1.6s\tremaining: 659ms\n",
      "709:\tlearn: 29.7691296\ttotal: 1.61s\tremaining: 656ms\n",
      "710:\tlearn: 29.6347315\ttotal: 1.61s\tremaining: 654ms\n",
      "711:\tlearn: 29.5690771\ttotal: 1.61s\tremaining: 652ms\n",
      "712:\tlearn: 29.4717613\ttotal: 1.61s\tremaining: 650ms\n",
      "713:\tlearn: 29.3453955\ttotal: 1.61s\tremaining: 647ms\n",
      "714:\tlearn: 29.3183996\ttotal: 1.62s\tremaining: 645ms\n",
      "715:\tlearn: 29.2357029\ttotal: 1.62s\tremaining: 643ms\n",
      "716:\tlearn: 29.1493484\ttotal: 1.62s\tremaining: 640ms\n",
      "717:\tlearn: 29.1412750\ttotal: 1.62s\tremaining: 638ms\n",
      "718:\tlearn: 29.0633640\ttotal: 1.63s\tremaining: 635ms\n",
      "719:\tlearn: 29.0063752\ttotal: 1.63s\tremaining: 633ms\n",
      "720:\tlearn: 28.8895697\ttotal: 1.63s\tremaining: 631ms\n",
      "721:\tlearn: 28.8127439\ttotal: 1.63s\tremaining: 628ms\n",
      "722:\tlearn: 28.7979935\ttotal: 1.63s\tremaining: 626ms\n",
      "723:\tlearn: 28.7730564\ttotal: 1.64s\tremaining: 624ms\n",
      "724:\tlearn: 28.6841951\ttotal: 1.64s\tremaining: 621ms\n",
      "725:\tlearn: 28.6192690\ttotal: 1.64s\tremaining: 619ms\n",
      "726:\tlearn: 28.5382100\ttotal: 1.64s\tremaining: 617ms\n",
      "727:\tlearn: 28.4124604\ttotal: 1.65s\tremaining: 615ms\n",
      "728:\tlearn: 28.3992354\ttotal: 1.65s\tremaining: 613ms\n",
      "729:\tlearn: 28.2458739\ttotal: 1.65s\tremaining: 611ms\n",
      "730:\tlearn: 28.1698858\ttotal: 1.65s\tremaining: 608ms\n",
      "731:\tlearn: 28.0857240\ttotal: 1.65s\tremaining: 606ms\n",
      "732:\tlearn: 28.0631865\ttotal: 1.66s\tremaining: 604ms\n",
      "733:\tlearn: 27.9617138\ttotal: 1.66s\tremaining: 601ms\n",
      "734:\tlearn: 27.9296040\ttotal: 1.66s\tremaining: 599ms\n",
      "735:\tlearn: 27.8714544\ttotal: 1.66s\tremaining: 597ms\n",
      "736:\tlearn: 27.8468105\ttotal: 1.66s\tremaining: 594ms\n",
      "737:\tlearn: 27.7605180\ttotal: 1.67s\tremaining: 592ms\n",
      "738:\tlearn: 27.6731250\ttotal: 1.67s\tremaining: 589ms\n",
      "739:\tlearn: 27.6662586\ttotal: 1.67s\tremaining: 587ms\n",
      "740:\tlearn: 27.6319100\ttotal: 1.67s\tremaining: 584ms\n",
      "741:\tlearn: 27.5465757\ttotal: 1.67s\tremaining: 582ms\n",
      "742:\tlearn: 27.4710735\ttotal: 1.68s\tremaining: 580ms\n",
      "743:\tlearn: 27.4510659\ttotal: 1.68s\tremaining: 577ms\n",
      "744:\tlearn: 27.3748617\ttotal: 1.68s\tremaining: 575ms\n",
      "745:\tlearn: 27.3633452\ttotal: 1.68s\tremaining: 573ms\n",
      "746:\tlearn: 27.2959571\ttotal: 1.68s\tremaining: 570ms\n",
      "747:\tlearn: 27.1315947\ttotal: 1.69s\tremaining: 568ms\n",
      "748:\tlearn: 27.0550248\ttotal: 1.69s\tremaining: 566ms\n",
      "749:\tlearn: 27.0373435\ttotal: 1.69s\tremaining: 564ms\n",
      "750:\tlearn: 26.9726665\ttotal: 1.69s\tremaining: 562ms\n",
      "751:\tlearn: 26.9145554\ttotal: 1.7s\tremaining: 559ms\n",
      "752:\tlearn: 26.8976495\ttotal: 1.7s\tremaining: 557ms\n",
      "753:\tlearn: 26.8013163\ttotal: 1.7s\tremaining: 555ms\n",
      "754:\tlearn: 26.7203712\ttotal: 1.7s\tremaining: 552ms\n",
      "755:\tlearn: 26.5829005\ttotal: 1.7s\tremaining: 550ms\n",
      "756:\tlearn: 26.4324310\ttotal: 1.71s\tremaining: 548ms\n",
      "757:\tlearn: 26.2890218\ttotal: 1.71s\tremaining: 546ms\n",
      "758:\tlearn: 26.1965245\ttotal: 1.71s\tremaining: 543ms\n",
      "759:\tlearn: 26.1810870\ttotal: 1.71s\tremaining: 541ms\n",
      "760:\tlearn: 26.1187072\ttotal: 1.72s\tremaining: 539ms\n",
      "761:\tlearn: 26.0637705\ttotal: 1.72s\tremaining: 537ms\n",
      "762:\tlearn: 25.9562461\ttotal: 1.72s\tremaining: 534ms\n",
      "763:\tlearn: 25.8386943\ttotal: 1.72s\tremaining: 532ms\n",
      "764:\tlearn: 25.7790725\ttotal: 1.72s\tremaining: 530ms\n",
      "765:\tlearn: 25.6701106\ttotal: 1.73s\tremaining: 527ms\n",
      "766:\tlearn: 25.6362119\ttotal: 1.73s\tremaining: 525ms\n",
      "767:\tlearn: 25.6252040\ttotal: 1.73s\tremaining: 523ms\n",
      "768:\tlearn: 25.5249470\ttotal: 1.73s\tremaining: 520ms\n",
      "769:\tlearn: 25.4610308\ttotal: 1.73s\tremaining: 518ms\n",
      "770:\tlearn: 25.3338917\ttotal: 1.74s\tremaining: 516ms\n",
      "771:\tlearn: 25.2081591\ttotal: 1.74s\tremaining: 514ms\n",
      "772:\tlearn: 25.1976317\ttotal: 1.74s\tremaining: 511ms\n",
      "773:\tlearn: 25.1309682\ttotal: 1.74s\tremaining: 509ms\n",
      "774:\tlearn: 25.0198547\ttotal: 1.74s\tremaining: 507ms\n",
      "775:\tlearn: 24.9490229\ttotal: 1.75s\tremaining: 504ms\n",
      "776:\tlearn: 24.9028200\ttotal: 1.75s\tremaining: 502ms\n",
      "777:\tlearn: 24.8337886\ttotal: 1.75s\tremaining: 500ms\n",
      "778:\tlearn: 24.7433955\ttotal: 1.75s\tremaining: 497ms\n",
      "779:\tlearn: 24.6167855\ttotal: 1.75s\tremaining: 495ms\n",
      "780:\tlearn: 24.5516424\ttotal: 1.76s\tremaining: 493ms\n",
      "781:\tlearn: 24.3925316\ttotal: 1.76s\tremaining: 491ms\n",
      "782:\tlearn: 24.3473598\ttotal: 1.76s\tremaining: 488ms\n",
      "783:\tlearn: 24.2382596\ttotal: 1.76s\tremaining: 486ms\n",
      "784:\tlearn: 24.1741117\ttotal: 1.77s\tremaining: 484ms\n",
      "785:\tlearn: 24.1282632\ttotal: 1.77s\tremaining: 481ms\n",
      "786:\tlearn: 24.1150038\ttotal: 1.77s\tremaining: 479ms\n",
      "787:\tlearn: 24.0552315\ttotal: 1.77s\tremaining: 477ms\n",
      "788:\tlearn: 24.0020307\ttotal: 1.77s\tremaining: 475ms\n",
      "789:\tlearn: 23.9582172\ttotal: 1.78s\tremaining: 472ms\n",
      "790:\tlearn: 23.9466945\ttotal: 1.78s\tremaining: 470ms\n",
      "791:\tlearn: 23.9012494\ttotal: 1.78s\tremaining: 468ms\n",
      "792:\tlearn: 23.8902062\ttotal: 1.78s\tremaining: 465ms\n",
      "793:\tlearn: 23.8375677\ttotal: 1.78s\tremaining: 463ms\n",
      "794:\tlearn: 23.8275049\ttotal: 1.79s\tremaining: 461ms\n",
      "795:\tlearn: 23.7639978\ttotal: 1.79s\tremaining: 458ms\n",
      "796:\tlearn: 23.7210385\ttotal: 1.79s\tremaining: 456ms\n",
      "797:\tlearn: 23.7118867\ttotal: 1.79s\tremaining: 454ms\n",
      "798:\tlearn: 23.6210770\ttotal: 1.79s\tremaining: 452ms\n",
      "799:\tlearn: 23.5667973\ttotal: 1.8s\tremaining: 449ms\n",
      "800:\tlearn: 23.5093551\ttotal: 1.8s\tremaining: 447ms\n",
      "801:\tlearn: 23.4248240\ttotal: 1.8s\tremaining: 445ms\n",
      "802:\tlearn: 23.3851975\ttotal: 1.8s\tremaining: 442ms\n",
      "803:\tlearn: 23.2576151\ttotal: 1.8s\tremaining: 440ms\n",
      "804:\tlearn: 23.1403284\ttotal: 1.81s\tremaining: 438ms\n",
      "805:\tlearn: 23.0861220\ttotal: 1.81s\tremaining: 436ms\n",
      "806:\tlearn: 23.0179965\ttotal: 1.81s\tremaining: 433ms\n",
      "807:\tlearn: 22.9499510\ttotal: 1.81s\tremaining: 431ms\n",
      "808:\tlearn: 22.9093322\ttotal: 1.82s\tremaining: 429ms\n",
      "809:\tlearn: 22.8749288\ttotal: 1.82s\tremaining: 427ms\n",
      "810:\tlearn: 22.8082947\ttotal: 1.82s\tremaining: 425ms\n",
      "811:\tlearn: 22.7734708\ttotal: 1.82s\tremaining: 423ms\n",
      "812:\tlearn: 22.6526692\ttotal: 1.83s\tremaining: 421ms\n",
      "813:\tlearn: 22.5530242\ttotal: 1.83s\tremaining: 419ms\n",
      "814:\tlearn: 22.4717488\ttotal: 1.83s\tremaining: 416ms\n",
      "815:\tlearn: 22.4620780\ttotal: 1.84s\tremaining: 414ms\n",
      "816:\tlearn: 22.4023061\ttotal: 1.84s\tremaining: 412ms\n",
      "817:\tlearn: 22.3578971\ttotal: 1.84s\tremaining: 410ms\n",
      "818:\tlearn: 22.3087689\ttotal: 1.84s\tremaining: 408ms\n",
      "819:\tlearn: 22.3046658\ttotal: 1.85s\tremaining: 406ms\n",
      "820:\tlearn: 22.2330663\ttotal: 1.85s\tremaining: 403ms\n",
      "821:\tlearn: 22.1591095\ttotal: 1.85s\tremaining: 401ms\n",
      "822:\tlearn: 22.1550239\ttotal: 1.85s\tremaining: 399ms\n",
      "823:\tlearn: 22.1463899\ttotal: 1.86s\tremaining: 397ms\n",
      "824:\tlearn: 22.1315815\ttotal: 1.86s\tremaining: 394ms\n",
      "825:\tlearn: 22.0652590\ttotal: 1.86s\tremaining: 392ms\n",
      "826:\tlearn: 22.0221121\ttotal: 1.86s\tremaining: 390ms\n",
      "827:\tlearn: 21.9774501\ttotal: 1.87s\tremaining: 388ms\n",
      "828:\tlearn: 21.9395292\ttotal: 1.87s\tremaining: 386ms\n",
      "829:\tlearn: 21.8508549\ttotal: 1.87s\tremaining: 384ms\n",
      "830:\tlearn: 21.8190935\ttotal: 1.88s\tremaining: 381ms\n",
      "831:\tlearn: 21.8109670\ttotal: 1.88s\tremaining: 379ms\n",
      "832:\tlearn: 21.7578310\ttotal: 1.88s\tremaining: 377ms\n",
      "833:\tlearn: 21.6862934\ttotal: 1.88s\tremaining: 375ms\n",
      "834:\tlearn: 21.6036840\ttotal: 1.88s\tremaining: 372ms\n",
      "835:\tlearn: 21.5099448\ttotal: 1.89s\tremaining: 370ms\n",
      "836:\tlearn: 21.4677400\ttotal: 1.89s\tremaining: 368ms\n",
      "837:\tlearn: 21.4091690\ttotal: 1.89s\tremaining: 366ms\n",
      "838:\tlearn: 21.3466938\ttotal: 1.9s\tremaining: 364ms\n",
      "839:\tlearn: 21.2298144\ttotal: 1.9s\tremaining: 362ms\n",
      "840:\tlearn: 21.1270373\ttotal: 1.9s\tremaining: 359ms\n",
      "841:\tlearn: 21.0373314\ttotal: 1.9s\tremaining: 357ms\n",
      "842:\tlearn: 20.9835159\ttotal: 1.91s\tremaining: 355ms\n",
      "843:\tlearn: 20.8484600\ttotal: 1.91s\tremaining: 353ms\n",
      "844:\tlearn: 20.7891557\ttotal: 1.91s\tremaining: 350ms\n",
      "845:\tlearn: 20.7291399\ttotal: 1.91s\tremaining: 348ms\n",
      "846:\tlearn: 20.6849494\ttotal: 1.91s\tremaining: 346ms\n",
      "847:\tlearn: 20.6154963\ttotal: 1.92s\tremaining: 343ms\n",
      "848:\tlearn: 20.5405276\ttotal: 1.92s\tremaining: 341ms\n",
      "849:\tlearn: 20.5016669\ttotal: 1.92s\tremaining: 339ms\n",
      "850:\tlearn: 20.4700003\ttotal: 1.92s\tremaining: 337ms\n",
      "851:\tlearn: 20.4163286\ttotal: 1.93s\tremaining: 335ms\n",
      "852:\tlearn: 20.3832418\ttotal: 1.93s\tremaining: 333ms\n",
      "853:\tlearn: 20.3012184\ttotal: 1.93s\tremaining: 331ms\n",
      "854:\tlearn: 20.2920333\ttotal: 1.94s\tremaining: 328ms\n",
      "855:\tlearn: 20.2053869\ttotal: 1.94s\tremaining: 326ms\n",
      "856:\tlearn: 20.1658977\ttotal: 1.94s\tremaining: 324ms\n",
      "857:\tlearn: 20.1100216\ttotal: 1.94s\tremaining: 322ms\n",
      "858:\tlearn: 20.0083729\ttotal: 1.95s\tremaining: 320ms\n",
      "859:\tlearn: 19.9455311\ttotal: 1.95s\tremaining: 317ms\n",
      "860:\tlearn: 19.8796059\ttotal: 1.95s\tremaining: 315ms\n",
      "861:\tlearn: 19.8565398\ttotal: 1.96s\tremaining: 313ms\n",
      "862:\tlearn: 19.7320152\ttotal: 1.96s\tremaining: 311ms\n",
      "863:\tlearn: 19.6553629\ttotal: 1.96s\tremaining: 309ms\n",
      "864:\tlearn: 19.5653904\ttotal: 1.96s\tremaining: 306ms\n",
      "865:\tlearn: 19.5044019\ttotal: 1.96s\tremaining: 304ms\n",
      "866:\tlearn: 19.4952821\ttotal: 1.97s\tremaining: 302ms\n",
      "867:\tlearn: 19.4417196\ttotal: 1.97s\tremaining: 299ms\n",
      "868:\tlearn: 19.3928280\ttotal: 1.97s\tremaining: 297ms\n",
      "869:\tlearn: 19.3310543\ttotal: 1.97s\tremaining: 295ms\n",
      "870:\tlearn: 19.2860856\ttotal: 1.98s\tremaining: 293ms\n",
      "871:\tlearn: 19.1689820\ttotal: 1.98s\tremaining: 290ms\n",
      "872:\tlearn: 19.0656586\ttotal: 1.98s\tremaining: 288ms\n",
      "873:\tlearn: 19.0585347\ttotal: 1.98s\tremaining: 286ms\n",
      "874:\tlearn: 19.0124418\ttotal: 1.98s\tremaining: 283ms\n",
      "875:\tlearn: 18.9798186\ttotal: 1.99s\tremaining: 281ms\n",
      "876:\tlearn: 18.8896499\ttotal: 1.99s\tremaining: 279ms\n",
      "877:\tlearn: 18.8379639\ttotal: 1.99s\tremaining: 277ms\n",
      "878:\tlearn: 18.8312106\ttotal: 1.99s\tremaining: 274ms\n",
      "879:\tlearn: 18.7718969\ttotal: 2s\tremaining: 272ms\n",
      "880:\tlearn: 18.7453473\ttotal: 2s\tremaining: 270ms\n",
      "881:\tlearn: 18.6851317\ttotal: 2s\tremaining: 268ms\n",
      "882:\tlearn: 18.5988650\ttotal: 2s\tremaining: 265ms\n",
      "883:\tlearn: 18.5525116\ttotal: 2s\tremaining: 263ms\n",
      "884:\tlearn: 18.4964362\ttotal: 2.01s\tremaining: 261ms\n",
      "885:\tlearn: 18.4542378\ttotal: 2.01s\tremaining: 259ms\n",
      "886:\tlearn: 18.4053368\ttotal: 2.01s\tremaining: 256ms\n",
      "887:\tlearn: 18.3676513\ttotal: 2.01s\tremaining: 254ms\n",
      "888:\tlearn: 18.3048839\ttotal: 2.02s\tremaining: 252ms\n",
      "889:\tlearn: 18.2501678\ttotal: 2.02s\tremaining: 249ms\n",
      "890:\tlearn: 18.2421410\ttotal: 2.02s\tremaining: 247ms\n",
      "891:\tlearn: 18.1820355\ttotal: 2.02s\tremaining: 245ms\n",
      "892:\tlearn: 18.1045997\ttotal: 2.03s\tremaining: 243ms\n",
      "893:\tlearn: 18.0516539\ttotal: 2.03s\tremaining: 241ms\n",
      "894:\tlearn: 17.9507407\ttotal: 2.03s\tremaining: 238ms\n",
      "895:\tlearn: 17.8656394\ttotal: 2.04s\tremaining: 236ms\n",
      "896:\tlearn: 17.8130004\ttotal: 2.04s\tremaining: 234ms\n",
      "897:\tlearn: 17.8056685\ttotal: 2.04s\tremaining: 232ms\n",
      "898:\tlearn: 17.7479301\ttotal: 2.04s\tremaining: 229ms\n",
      "899:\tlearn: 17.6628775\ttotal: 2.04s\tremaining: 227ms\n",
      "900:\tlearn: 17.6036263\ttotal: 2.05s\tremaining: 225ms\n",
      "901:\tlearn: 17.5548725\ttotal: 2.05s\tremaining: 223ms\n",
      "902:\tlearn: 17.5112982\ttotal: 2.05s\tremaining: 220ms\n",
      "903:\tlearn: 17.4337097\ttotal: 2.05s\tremaining: 218ms\n",
      "904:\tlearn: 17.3438812\ttotal: 2.05s\tremaining: 216ms\n",
      "905:\tlearn: 17.2978952\ttotal: 2.06s\tremaining: 213ms\n",
      "906:\tlearn: 17.2705120\ttotal: 2.06s\tremaining: 211ms\n",
      "907:\tlearn: 17.2197843\ttotal: 2.06s\tremaining: 209ms\n",
      "908:\tlearn: 17.1672918\ttotal: 2.06s\tremaining: 207ms\n",
      "909:\tlearn: 17.0962813\ttotal: 2.06s\tremaining: 204ms\n",
      "910:\tlearn: 17.0367884\ttotal: 2.07s\tremaining: 202ms\n",
      "911:\tlearn: 16.9995434\ttotal: 2.07s\tremaining: 200ms\n",
      "912:\tlearn: 16.9503108\ttotal: 2.07s\tremaining: 197ms\n",
      "913:\tlearn: 16.8634821\ttotal: 2.07s\tremaining: 195ms\n",
      "914:\tlearn: 16.8562342\ttotal: 2.08s\tremaining: 193ms\n",
      "915:\tlearn: 16.8266675\ttotal: 2.08s\tremaining: 191ms\n",
      "916:\tlearn: 16.8202756\ttotal: 2.08s\tremaining: 188ms\n",
      "917:\tlearn: 16.8140117\ttotal: 2.08s\tremaining: 186ms\n",
      "918:\tlearn: 16.7657793\ttotal: 2.08s\tremaining: 184ms\n",
      "919:\tlearn: 16.7455489\ttotal: 2.09s\tremaining: 181ms\n",
      "920:\tlearn: 16.7350234\ttotal: 2.09s\tremaining: 179ms\n",
      "921:\tlearn: 16.6764784\ttotal: 2.09s\tremaining: 177ms\n",
      "922:\tlearn: 16.6413683\ttotal: 2.09s\tremaining: 175ms\n",
      "923:\tlearn: 16.6313216\ttotal: 2.1s\tremaining: 172ms\n",
      "924:\tlearn: 16.5737890\ttotal: 2.1s\tremaining: 170ms\n",
      "925:\tlearn: 16.5612564\ttotal: 2.1s\tremaining: 168ms\n",
      "926:\tlearn: 16.5194103\ttotal: 2.1s\tremaining: 166ms\n",
      "927:\tlearn: 16.4774875\ttotal: 2.1s\tremaining: 163ms\n",
      "928:\tlearn: 16.4716862\ttotal: 2.1s\tremaining: 161ms\n",
      "929:\tlearn: 16.4373752\ttotal: 2.11s\tremaining: 159ms\n",
      "930:\tlearn: 16.4285377\ttotal: 2.11s\tremaining: 156ms\n",
      "931:\tlearn: 16.3673869\ttotal: 2.11s\tremaining: 154ms\n",
      "932:\tlearn: 16.3185470\ttotal: 2.11s\tremaining: 152ms\n",
      "933:\tlearn: 16.2631467\ttotal: 2.12s\tremaining: 150ms\n",
      "934:\tlearn: 16.1934975\ttotal: 2.12s\tremaining: 147ms\n",
      "935:\tlearn: 16.1884481\ttotal: 2.12s\tremaining: 145ms\n",
      "936:\tlearn: 16.1500024\ttotal: 2.12s\tremaining: 143ms\n",
      "937:\tlearn: 16.1409804\ttotal: 2.13s\tremaining: 140ms\n",
      "938:\tlearn: 16.0683587\ttotal: 2.13s\tremaining: 138ms\n",
      "939:\tlearn: 15.9809030\ttotal: 2.13s\tremaining: 136ms\n",
      "940:\tlearn: 15.8978202\ttotal: 2.13s\tremaining: 134ms\n",
      "941:\tlearn: 15.8709900\ttotal: 2.13s\tremaining: 131ms\n",
      "942:\tlearn: 15.8344018\ttotal: 2.14s\tremaining: 129ms\n",
      "943:\tlearn: 15.8295482\ttotal: 2.14s\tremaining: 127ms\n",
      "944:\tlearn: 15.7744973\ttotal: 2.14s\tremaining: 125ms\n",
      "945:\tlearn: 15.7305450\ttotal: 2.14s\tremaining: 122ms\n",
      "946:\tlearn: 15.6857434\ttotal: 2.15s\tremaining: 120ms\n",
      "947:\tlearn: 15.6591016\ttotal: 2.15s\tremaining: 118ms\n",
      "948:\tlearn: 15.6314256\ttotal: 2.15s\tremaining: 116ms\n",
      "949:\tlearn: 15.5788777\ttotal: 2.15s\tremaining: 113ms\n",
      "950:\tlearn: 15.5325554\ttotal: 2.15s\tremaining: 111ms\n",
      "951:\tlearn: 15.4890930\ttotal: 2.16s\tremaining: 109ms\n",
      "952:\tlearn: 15.4263779\ttotal: 2.16s\tremaining: 106ms\n",
      "953:\tlearn: 15.3892307\ttotal: 2.16s\tremaining: 104ms\n",
      "954:\tlearn: 15.3531641\ttotal: 2.16s\tremaining: 102ms\n",
      "955:\tlearn: 15.3172544\ttotal: 2.17s\tremaining: 99.7ms\n",
      "956:\tlearn: 15.2722481\ttotal: 2.17s\tremaining: 97.4ms\n",
      "957:\tlearn: 15.2509946\ttotal: 2.17s\tremaining: 95.2ms\n",
      "958:\tlearn: 15.2106080\ttotal: 2.17s\tremaining: 92.9ms\n",
      "959:\tlearn: 15.1550705\ttotal: 2.17s\tremaining: 90.6ms\n",
      "960:\tlearn: 15.1198927\ttotal: 2.18s\tremaining: 88.3ms\n",
      "961:\tlearn: 15.0521121\ttotal: 2.18s\tremaining: 86.1ms\n",
      "962:\tlearn: 15.0138282\ttotal: 2.18s\tremaining: 83.8ms\n",
      "963:\tlearn: 14.9511473\ttotal: 2.18s\tremaining: 81.5ms\n",
      "964:\tlearn: 14.9013556\ttotal: 2.19s\tremaining: 79.3ms\n",
      "965:\tlearn: 14.8491591\ttotal: 2.19s\tremaining: 77ms\n",
      "966:\tlearn: 14.7846364\ttotal: 2.19s\tremaining: 74.7ms\n",
      "967:\tlearn: 14.7378076\ttotal: 2.19s\tremaining: 72.5ms\n",
      "968:\tlearn: 14.6963646\ttotal: 2.19s\tremaining: 70.2ms\n",
      "969:\tlearn: 14.6368320\ttotal: 2.2s\tremaining: 68ms\n",
      "970:\tlearn: 14.5641432\ttotal: 2.2s\tremaining: 65.7ms\n",
      "971:\tlearn: 14.5009366\ttotal: 2.2s\tremaining: 63.4ms\n",
      "972:\tlearn: 14.4934257\ttotal: 2.2s\tremaining: 61.2ms\n",
      "973:\tlearn: 14.4521224\ttotal: 2.21s\tremaining: 58.9ms\n",
      "974:\tlearn: 14.4111253\ttotal: 2.21s\tremaining: 56.6ms\n",
      "975:\tlearn: 14.3698632\ttotal: 2.21s\tremaining: 54.4ms\n",
      "976:\tlearn: 14.3591191\ttotal: 2.21s\tremaining: 52.1ms\n",
      "977:\tlearn: 14.3269189\ttotal: 2.22s\tremaining: 49.9ms\n",
      "978:\tlearn: 14.2789397\ttotal: 2.22s\tremaining: 47.6ms\n",
      "979:\tlearn: 14.2216384\ttotal: 2.22s\tremaining: 45.3ms\n",
      "980:\tlearn: 14.1751644\ttotal: 2.22s\tremaining: 43.1ms\n",
      "981:\tlearn: 14.1256092\ttotal: 2.23s\tremaining: 40.8ms\n",
      "982:\tlearn: 14.0731502\ttotal: 2.23s\tremaining: 38.5ms\n",
      "983:\tlearn: 14.0117995\ttotal: 2.23s\tremaining: 36.2ms\n",
      "984:\tlearn: 13.9841830\ttotal: 2.23s\tremaining: 34ms\n",
      "985:\tlearn: 13.9230955\ttotal: 2.23s\tremaining: 31.7ms\n",
      "986:\tlearn: 13.8746811\ttotal: 2.23s\tremaining: 29.4ms\n",
      "987:\tlearn: 13.8092980\ttotal: 2.24s\tremaining: 27.2ms\n",
      "988:\tlearn: 13.7921958\ttotal: 2.24s\tremaining: 24.9ms\n",
      "989:\tlearn: 13.7424480\ttotal: 2.24s\tremaining: 22.6ms\n",
      "990:\tlearn: 13.6967360\ttotal: 2.24s\tremaining: 20.4ms\n",
      "991:\tlearn: 13.6709582\ttotal: 2.25s\tremaining: 18.1ms\n",
      "992:\tlearn: 13.6094706\ttotal: 2.25s\tremaining: 15.8ms\n",
      "993:\tlearn: 13.5641205\ttotal: 2.25s\tremaining: 13.6ms\n",
      "994:\tlearn: 13.5192775\ttotal: 2.25s\tremaining: 11.3ms\n",
      "995:\tlearn: 13.4902451\ttotal: 2.25s\tremaining: 9.05ms\n",
      "996:\tlearn: 13.4806052\ttotal: 2.26s\tremaining: 6.79ms\n",
      "997:\tlearn: 13.4282445\ttotal: 2.26s\tremaining: 4.53ms\n",
      "998:\tlearn: 13.4020177\ttotal: 2.26s\tremaining: 2.26ms\n",
      "999:\tlearn: 13.3781902\ttotal: 2.26s\tremaining: 0us\n"
     ]
    },
    {
     "data": {
      "text/plain": [
       "<catboost.core.CatBoostRegressor at 0x1d9311f45c0>"
      ]
     },
     "execution_count": 82,
     "metadata": {},
     "output_type": "execute_result"
    }
   ],
   "source": [
    "from catboost import CatBoostRegressor\n",
    "\n",
    "catb_model = CatBoostRegressor().fit(X_train, y_train)\n",
    "catb_model"
   ]
  },
  {
   "cell_type": "code",
   "execution_count": 83,
   "metadata": {
    "collapsed": true,
    "jupyter": {
     "outputs_hidden": true
    }
   },
   "outputs": [
    {
     "data": {
      "text/plain": [
       "\u001b[1;31mInit signature:\u001b[0m\n",
       "\u001b[0mCatBoostRegressor\u001b[0m\u001b[1;33m(\u001b[0m\u001b[1;33m\n",
       "\u001b[0m    \u001b[0miterations\u001b[0m\u001b[1;33m=\u001b[0m\u001b[1;32mNone\u001b[0m\u001b[1;33m,\u001b[0m\u001b[1;33m\n",
       "\u001b[0m    \u001b[0mlearning_rate\u001b[0m\u001b[1;33m=\u001b[0m\u001b[1;32mNone\u001b[0m\u001b[1;33m,\u001b[0m\u001b[1;33m\n",
       "\u001b[0m    \u001b[0mdepth\u001b[0m\u001b[1;33m=\u001b[0m\u001b[1;32mNone\u001b[0m\u001b[1;33m,\u001b[0m\u001b[1;33m\n",
       "\u001b[0m    \u001b[0ml2_leaf_reg\u001b[0m\u001b[1;33m=\u001b[0m\u001b[1;32mNone\u001b[0m\u001b[1;33m,\u001b[0m\u001b[1;33m\n",
       "\u001b[0m    \u001b[0mmodel_size_reg\u001b[0m\u001b[1;33m=\u001b[0m\u001b[1;32mNone\u001b[0m\u001b[1;33m,\u001b[0m\u001b[1;33m\n",
       "\u001b[0m    \u001b[0mrsm\u001b[0m\u001b[1;33m=\u001b[0m\u001b[1;32mNone\u001b[0m\u001b[1;33m,\u001b[0m\u001b[1;33m\n",
       "\u001b[0m    \u001b[0mloss_function\u001b[0m\u001b[1;33m=\u001b[0m\u001b[1;34m'RMSE'\u001b[0m\u001b[1;33m,\u001b[0m\u001b[1;33m\n",
       "\u001b[0m    \u001b[0mborder_count\u001b[0m\u001b[1;33m=\u001b[0m\u001b[1;32mNone\u001b[0m\u001b[1;33m,\u001b[0m\u001b[1;33m\n",
       "\u001b[0m    \u001b[0mfeature_border_type\u001b[0m\u001b[1;33m=\u001b[0m\u001b[1;32mNone\u001b[0m\u001b[1;33m,\u001b[0m\u001b[1;33m\n",
       "\u001b[0m    \u001b[0mper_float_feature_quantization\u001b[0m\u001b[1;33m=\u001b[0m\u001b[1;32mNone\u001b[0m\u001b[1;33m,\u001b[0m\u001b[1;33m\n",
       "\u001b[0m    \u001b[0minput_borders\u001b[0m\u001b[1;33m=\u001b[0m\u001b[1;32mNone\u001b[0m\u001b[1;33m,\u001b[0m\u001b[1;33m\n",
       "\u001b[0m    \u001b[0moutput_borders\u001b[0m\u001b[1;33m=\u001b[0m\u001b[1;32mNone\u001b[0m\u001b[1;33m,\u001b[0m\u001b[1;33m\n",
       "\u001b[0m    \u001b[0mfold_permutation_block\u001b[0m\u001b[1;33m=\u001b[0m\u001b[1;32mNone\u001b[0m\u001b[1;33m,\u001b[0m\u001b[1;33m\n",
       "\u001b[0m    \u001b[0mod_pval\u001b[0m\u001b[1;33m=\u001b[0m\u001b[1;32mNone\u001b[0m\u001b[1;33m,\u001b[0m\u001b[1;33m\n",
       "\u001b[0m    \u001b[0mod_wait\u001b[0m\u001b[1;33m=\u001b[0m\u001b[1;32mNone\u001b[0m\u001b[1;33m,\u001b[0m\u001b[1;33m\n",
       "\u001b[0m    \u001b[0mod_type\u001b[0m\u001b[1;33m=\u001b[0m\u001b[1;32mNone\u001b[0m\u001b[1;33m,\u001b[0m\u001b[1;33m\n",
       "\u001b[0m    \u001b[0mnan_mode\u001b[0m\u001b[1;33m=\u001b[0m\u001b[1;32mNone\u001b[0m\u001b[1;33m,\u001b[0m\u001b[1;33m\n",
       "\u001b[0m    \u001b[0mcounter_calc_method\u001b[0m\u001b[1;33m=\u001b[0m\u001b[1;32mNone\u001b[0m\u001b[1;33m,\u001b[0m\u001b[1;33m\n",
       "\u001b[0m    \u001b[0mleaf_estimation_iterations\u001b[0m\u001b[1;33m=\u001b[0m\u001b[1;32mNone\u001b[0m\u001b[1;33m,\u001b[0m\u001b[1;33m\n",
       "\u001b[0m    \u001b[0mleaf_estimation_method\u001b[0m\u001b[1;33m=\u001b[0m\u001b[1;32mNone\u001b[0m\u001b[1;33m,\u001b[0m\u001b[1;33m\n",
       "\u001b[0m    \u001b[0mthread_count\u001b[0m\u001b[1;33m=\u001b[0m\u001b[1;32mNone\u001b[0m\u001b[1;33m,\u001b[0m\u001b[1;33m\n",
       "\u001b[0m    \u001b[0mrandom_seed\u001b[0m\u001b[1;33m=\u001b[0m\u001b[1;32mNone\u001b[0m\u001b[1;33m,\u001b[0m\u001b[1;33m\n",
       "\u001b[0m    \u001b[0muse_best_model\u001b[0m\u001b[1;33m=\u001b[0m\u001b[1;32mNone\u001b[0m\u001b[1;33m,\u001b[0m\u001b[1;33m\n",
       "\u001b[0m    \u001b[0mbest_model_min_trees\u001b[0m\u001b[1;33m=\u001b[0m\u001b[1;32mNone\u001b[0m\u001b[1;33m,\u001b[0m\u001b[1;33m\n",
       "\u001b[0m    \u001b[0mverbose\u001b[0m\u001b[1;33m=\u001b[0m\u001b[1;32mNone\u001b[0m\u001b[1;33m,\u001b[0m\u001b[1;33m\n",
       "\u001b[0m    \u001b[0msilent\u001b[0m\u001b[1;33m=\u001b[0m\u001b[1;32mNone\u001b[0m\u001b[1;33m,\u001b[0m\u001b[1;33m\n",
       "\u001b[0m    \u001b[0mlogging_level\u001b[0m\u001b[1;33m=\u001b[0m\u001b[1;32mNone\u001b[0m\u001b[1;33m,\u001b[0m\u001b[1;33m\n",
       "\u001b[0m    \u001b[0mmetric_period\u001b[0m\u001b[1;33m=\u001b[0m\u001b[1;32mNone\u001b[0m\u001b[1;33m,\u001b[0m\u001b[1;33m\n",
       "\u001b[0m    \u001b[0mctr_leaf_count_limit\u001b[0m\u001b[1;33m=\u001b[0m\u001b[1;32mNone\u001b[0m\u001b[1;33m,\u001b[0m\u001b[1;33m\n",
       "\u001b[0m    \u001b[0mstore_all_simple_ctr\u001b[0m\u001b[1;33m=\u001b[0m\u001b[1;32mNone\u001b[0m\u001b[1;33m,\u001b[0m\u001b[1;33m\n",
       "\u001b[0m    \u001b[0mmax_ctr_complexity\u001b[0m\u001b[1;33m=\u001b[0m\u001b[1;32mNone\u001b[0m\u001b[1;33m,\u001b[0m\u001b[1;33m\n",
       "\u001b[0m    \u001b[0mhas_time\u001b[0m\u001b[1;33m=\u001b[0m\u001b[1;32mNone\u001b[0m\u001b[1;33m,\u001b[0m\u001b[1;33m\n",
       "\u001b[0m    \u001b[0mallow_const_label\u001b[0m\u001b[1;33m=\u001b[0m\u001b[1;32mNone\u001b[0m\u001b[1;33m,\u001b[0m\u001b[1;33m\n",
       "\u001b[0m    \u001b[0mtarget_border\u001b[0m\u001b[1;33m=\u001b[0m\u001b[1;32mNone\u001b[0m\u001b[1;33m,\u001b[0m\u001b[1;33m\n",
       "\u001b[0m    \u001b[0mone_hot_max_size\u001b[0m\u001b[1;33m=\u001b[0m\u001b[1;32mNone\u001b[0m\u001b[1;33m,\u001b[0m\u001b[1;33m\n",
       "\u001b[0m    \u001b[0mrandom_strength\u001b[0m\u001b[1;33m=\u001b[0m\u001b[1;32mNone\u001b[0m\u001b[1;33m,\u001b[0m\u001b[1;33m\n",
       "\u001b[0m    \u001b[0mname\u001b[0m\u001b[1;33m=\u001b[0m\u001b[1;32mNone\u001b[0m\u001b[1;33m,\u001b[0m\u001b[1;33m\n",
       "\u001b[0m    \u001b[0mignored_features\u001b[0m\u001b[1;33m=\u001b[0m\u001b[1;32mNone\u001b[0m\u001b[1;33m,\u001b[0m\u001b[1;33m\n",
       "\u001b[0m    \u001b[0mtrain_dir\u001b[0m\u001b[1;33m=\u001b[0m\u001b[1;32mNone\u001b[0m\u001b[1;33m,\u001b[0m\u001b[1;33m\n",
       "\u001b[0m    \u001b[0mcustom_metric\u001b[0m\u001b[1;33m=\u001b[0m\u001b[1;32mNone\u001b[0m\u001b[1;33m,\u001b[0m\u001b[1;33m\n",
       "\u001b[0m    \u001b[0meval_metric\u001b[0m\u001b[1;33m=\u001b[0m\u001b[1;32mNone\u001b[0m\u001b[1;33m,\u001b[0m\u001b[1;33m\n",
       "\u001b[0m    \u001b[0mbagging_temperature\u001b[0m\u001b[1;33m=\u001b[0m\u001b[1;32mNone\u001b[0m\u001b[1;33m,\u001b[0m\u001b[1;33m\n",
       "\u001b[0m    \u001b[0msave_snapshot\u001b[0m\u001b[1;33m=\u001b[0m\u001b[1;32mNone\u001b[0m\u001b[1;33m,\u001b[0m\u001b[1;33m\n",
       "\u001b[0m    \u001b[0msnapshot_file\u001b[0m\u001b[1;33m=\u001b[0m\u001b[1;32mNone\u001b[0m\u001b[1;33m,\u001b[0m\u001b[1;33m\n",
       "\u001b[0m    \u001b[0msnapshot_interval\u001b[0m\u001b[1;33m=\u001b[0m\u001b[1;32mNone\u001b[0m\u001b[1;33m,\u001b[0m\u001b[1;33m\n",
       "\u001b[0m    \u001b[0mfold_len_multiplier\u001b[0m\u001b[1;33m=\u001b[0m\u001b[1;32mNone\u001b[0m\u001b[1;33m,\u001b[0m\u001b[1;33m\n",
       "\u001b[0m    \u001b[0mused_ram_limit\u001b[0m\u001b[1;33m=\u001b[0m\u001b[1;32mNone\u001b[0m\u001b[1;33m,\u001b[0m\u001b[1;33m\n",
       "\u001b[0m    \u001b[0mgpu_ram_part\u001b[0m\u001b[1;33m=\u001b[0m\u001b[1;32mNone\u001b[0m\u001b[1;33m,\u001b[0m\u001b[1;33m\n",
       "\u001b[0m    \u001b[0mpinned_memory_size\u001b[0m\u001b[1;33m=\u001b[0m\u001b[1;32mNone\u001b[0m\u001b[1;33m,\u001b[0m\u001b[1;33m\n",
       "\u001b[0m    \u001b[0mallow_writing_files\u001b[0m\u001b[1;33m=\u001b[0m\u001b[1;32mNone\u001b[0m\u001b[1;33m,\u001b[0m\u001b[1;33m\n",
       "\u001b[0m    \u001b[0mfinal_ctr_computation_mode\u001b[0m\u001b[1;33m=\u001b[0m\u001b[1;32mNone\u001b[0m\u001b[1;33m,\u001b[0m\u001b[1;33m\n",
       "\u001b[0m    \u001b[0mapprox_on_full_history\u001b[0m\u001b[1;33m=\u001b[0m\u001b[1;32mNone\u001b[0m\u001b[1;33m,\u001b[0m\u001b[1;33m\n",
       "\u001b[0m    \u001b[0mboosting_type\u001b[0m\u001b[1;33m=\u001b[0m\u001b[1;32mNone\u001b[0m\u001b[1;33m,\u001b[0m\u001b[1;33m\n",
       "\u001b[0m    \u001b[0msimple_ctr\u001b[0m\u001b[1;33m=\u001b[0m\u001b[1;32mNone\u001b[0m\u001b[1;33m,\u001b[0m\u001b[1;33m\n",
       "\u001b[0m    \u001b[0mcombinations_ctr\u001b[0m\u001b[1;33m=\u001b[0m\u001b[1;32mNone\u001b[0m\u001b[1;33m,\u001b[0m\u001b[1;33m\n",
       "\u001b[0m    \u001b[0mper_feature_ctr\u001b[0m\u001b[1;33m=\u001b[0m\u001b[1;32mNone\u001b[0m\u001b[1;33m,\u001b[0m\u001b[1;33m\n",
       "\u001b[0m    \u001b[0mctr_description\u001b[0m\u001b[1;33m=\u001b[0m\u001b[1;32mNone\u001b[0m\u001b[1;33m,\u001b[0m\u001b[1;33m\n",
       "\u001b[0m    \u001b[0mctr_target_border_count\u001b[0m\u001b[1;33m=\u001b[0m\u001b[1;32mNone\u001b[0m\u001b[1;33m,\u001b[0m\u001b[1;33m\n",
       "\u001b[0m    \u001b[0mtask_type\u001b[0m\u001b[1;33m=\u001b[0m\u001b[1;32mNone\u001b[0m\u001b[1;33m,\u001b[0m\u001b[1;33m\n",
       "\u001b[0m    \u001b[0mdevice_config\u001b[0m\u001b[1;33m=\u001b[0m\u001b[1;32mNone\u001b[0m\u001b[1;33m,\u001b[0m\u001b[1;33m\n",
       "\u001b[0m    \u001b[0mdevices\u001b[0m\u001b[1;33m=\u001b[0m\u001b[1;32mNone\u001b[0m\u001b[1;33m,\u001b[0m\u001b[1;33m\n",
       "\u001b[0m    \u001b[0mbootstrap_type\u001b[0m\u001b[1;33m=\u001b[0m\u001b[1;32mNone\u001b[0m\u001b[1;33m,\u001b[0m\u001b[1;33m\n",
       "\u001b[0m    \u001b[0msubsample\u001b[0m\u001b[1;33m=\u001b[0m\u001b[1;32mNone\u001b[0m\u001b[1;33m,\u001b[0m\u001b[1;33m\n",
       "\u001b[0m    \u001b[0mmvs_reg\u001b[0m\u001b[1;33m=\u001b[0m\u001b[1;32mNone\u001b[0m\u001b[1;33m,\u001b[0m\u001b[1;33m\n",
       "\u001b[0m    \u001b[0msampling_frequency\u001b[0m\u001b[1;33m=\u001b[0m\u001b[1;32mNone\u001b[0m\u001b[1;33m,\u001b[0m\u001b[1;33m\n",
       "\u001b[0m    \u001b[0msampling_unit\u001b[0m\u001b[1;33m=\u001b[0m\u001b[1;32mNone\u001b[0m\u001b[1;33m,\u001b[0m\u001b[1;33m\n",
       "\u001b[0m    \u001b[0mdev_score_calc_obj_block_size\u001b[0m\u001b[1;33m=\u001b[0m\u001b[1;32mNone\u001b[0m\u001b[1;33m,\u001b[0m\u001b[1;33m\n",
       "\u001b[0m    \u001b[0mdev_efb_max_buckets\u001b[0m\u001b[1;33m=\u001b[0m\u001b[1;32mNone\u001b[0m\u001b[1;33m,\u001b[0m\u001b[1;33m\n",
       "\u001b[0m    \u001b[0msparse_features_conflict_fraction\u001b[0m\u001b[1;33m=\u001b[0m\u001b[1;32mNone\u001b[0m\u001b[1;33m,\u001b[0m\u001b[1;33m\n",
       "\u001b[0m    \u001b[0mmax_depth\u001b[0m\u001b[1;33m=\u001b[0m\u001b[1;32mNone\u001b[0m\u001b[1;33m,\u001b[0m\u001b[1;33m\n",
       "\u001b[0m    \u001b[0mn_estimators\u001b[0m\u001b[1;33m=\u001b[0m\u001b[1;32mNone\u001b[0m\u001b[1;33m,\u001b[0m\u001b[1;33m\n",
       "\u001b[0m    \u001b[0mnum_boost_round\u001b[0m\u001b[1;33m=\u001b[0m\u001b[1;32mNone\u001b[0m\u001b[1;33m,\u001b[0m\u001b[1;33m\n",
       "\u001b[0m    \u001b[0mnum_trees\u001b[0m\u001b[1;33m=\u001b[0m\u001b[1;32mNone\u001b[0m\u001b[1;33m,\u001b[0m\u001b[1;33m\n",
       "\u001b[0m    \u001b[0mcolsample_bylevel\u001b[0m\u001b[1;33m=\u001b[0m\u001b[1;32mNone\u001b[0m\u001b[1;33m,\u001b[0m\u001b[1;33m\n",
       "\u001b[0m    \u001b[0mrandom_state\u001b[0m\u001b[1;33m=\u001b[0m\u001b[1;32mNone\u001b[0m\u001b[1;33m,\u001b[0m\u001b[1;33m\n",
       "\u001b[0m    \u001b[0mreg_lambda\u001b[0m\u001b[1;33m=\u001b[0m\u001b[1;32mNone\u001b[0m\u001b[1;33m,\u001b[0m\u001b[1;33m\n",
       "\u001b[0m    \u001b[0mobjective\u001b[0m\u001b[1;33m=\u001b[0m\u001b[1;32mNone\u001b[0m\u001b[1;33m,\u001b[0m\u001b[1;33m\n",
       "\u001b[0m    \u001b[0meta\u001b[0m\u001b[1;33m=\u001b[0m\u001b[1;32mNone\u001b[0m\u001b[1;33m,\u001b[0m\u001b[1;33m\n",
       "\u001b[0m    \u001b[0mmax_bin\u001b[0m\u001b[1;33m=\u001b[0m\u001b[1;32mNone\u001b[0m\u001b[1;33m,\u001b[0m\u001b[1;33m\n",
       "\u001b[0m    \u001b[0mgpu_cat_features_storage\u001b[0m\u001b[1;33m=\u001b[0m\u001b[1;32mNone\u001b[0m\u001b[1;33m,\u001b[0m\u001b[1;33m\n",
       "\u001b[0m    \u001b[0mdata_partition\u001b[0m\u001b[1;33m=\u001b[0m\u001b[1;32mNone\u001b[0m\u001b[1;33m,\u001b[0m\u001b[1;33m\n",
       "\u001b[0m    \u001b[0mmetadata\u001b[0m\u001b[1;33m=\u001b[0m\u001b[1;32mNone\u001b[0m\u001b[1;33m,\u001b[0m\u001b[1;33m\n",
       "\u001b[0m    \u001b[0mearly_stopping_rounds\u001b[0m\u001b[1;33m=\u001b[0m\u001b[1;32mNone\u001b[0m\u001b[1;33m,\u001b[0m\u001b[1;33m\n",
       "\u001b[0m    \u001b[0mcat_features\u001b[0m\u001b[1;33m=\u001b[0m\u001b[1;32mNone\u001b[0m\u001b[1;33m,\u001b[0m\u001b[1;33m\n",
       "\u001b[0m    \u001b[0mgrow_policy\u001b[0m\u001b[1;33m=\u001b[0m\u001b[1;32mNone\u001b[0m\u001b[1;33m,\u001b[0m\u001b[1;33m\n",
       "\u001b[0m    \u001b[0mmin_data_in_leaf\u001b[0m\u001b[1;33m=\u001b[0m\u001b[1;32mNone\u001b[0m\u001b[1;33m,\u001b[0m\u001b[1;33m\n",
       "\u001b[0m    \u001b[0mmin_child_samples\u001b[0m\u001b[1;33m=\u001b[0m\u001b[1;32mNone\u001b[0m\u001b[1;33m,\u001b[0m\u001b[1;33m\n",
       "\u001b[0m    \u001b[0mmax_leaves\u001b[0m\u001b[1;33m=\u001b[0m\u001b[1;32mNone\u001b[0m\u001b[1;33m,\u001b[0m\u001b[1;33m\n",
       "\u001b[0m    \u001b[0mnum_leaves\u001b[0m\u001b[1;33m=\u001b[0m\u001b[1;32mNone\u001b[0m\u001b[1;33m,\u001b[0m\u001b[1;33m\n",
       "\u001b[0m    \u001b[0mscore_function\u001b[0m\u001b[1;33m=\u001b[0m\u001b[1;32mNone\u001b[0m\u001b[1;33m,\u001b[0m\u001b[1;33m\n",
       "\u001b[0m    \u001b[0mleaf_estimation_backtracking\u001b[0m\u001b[1;33m=\u001b[0m\u001b[1;32mNone\u001b[0m\u001b[1;33m,\u001b[0m\u001b[1;33m\n",
       "\u001b[0m    \u001b[0mctr_history_unit\u001b[0m\u001b[1;33m=\u001b[0m\u001b[1;32mNone\u001b[0m\u001b[1;33m,\u001b[0m\u001b[1;33m\n",
       "\u001b[0m    \u001b[0mmonotone_constraints\u001b[0m\u001b[1;33m=\u001b[0m\u001b[1;32mNone\u001b[0m\u001b[1;33m,\u001b[0m\u001b[1;33m\n",
       "\u001b[0m    \u001b[0mfeature_weights\u001b[0m\u001b[1;33m=\u001b[0m\u001b[1;32mNone\u001b[0m\u001b[1;33m,\u001b[0m\u001b[1;33m\n",
       "\u001b[0m    \u001b[0mpenalties_coefficient\u001b[0m\u001b[1;33m=\u001b[0m\u001b[1;32mNone\u001b[0m\u001b[1;33m,\u001b[0m\u001b[1;33m\n",
       "\u001b[0m    \u001b[0mfirst_feature_use_penalties\u001b[0m\u001b[1;33m=\u001b[0m\u001b[1;32mNone\u001b[0m\u001b[1;33m,\u001b[0m\u001b[1;33m\n",
       "\u001b[0m    \u001b[0mmodel_shrink_rate\u001b[0m\u001b[1;33m=\u001b[0m\u001b[1;32mNone\u001b[0m\u001b[1;33m,\u001b[0m\u001b[1;33m\n",
       "\u001b[0m    \u001b[0mmodel_shrink_mode\u001b[0m\u001b[1;33m=\u001b[0m\u001b[1;32mNone\u001b[0m\u001b[1;33m,\u001b[0m\u001b[1;33m\n",
       "\u001b[0m    \u001b[0mlangevin\u001b[0m\u001b[1;33m=\u001b[0m\u001b[1;32mNone\u001b[0m\u001b[1;33m,\u001b[0m\u001b[1;33m\n",
       "\u001b[0m    \u001b[0mdiffusion_temperature\u001b[0m\u001b[1;33m=\u001b[0m\u001b[1;32mNone\u001b[0m\u001b[1;33m,\u001b[0m\u001b[1;33m\n",
       "\u001b[0m    \u001b[0mboost_from_average\u001b[0m\u001b[1;33m=\u001b[0m\u001b[1;32mNone\u001b[0m\u001b[1;33m,\u001b[0m\u001b[1;33m\n",
       "\u001b[0m\u001b[1;33m)\u001b[0m\u001b[1;33m\u001b[0m\u001b[1;33m\u001b[0m\u001b[0m\n",
       "\u001b[1;31mDocstring:\u001b[0m      CatBoost model. Contains training, prediction and evaluation methods.\n",
       "\u001b[1;31mInit docstring:\u001b[0m\n",
       "Initialize the CatBoost.\n",
       "\n",
       "Parameters\n",
       "----------\n",
       "params : dict\n",
       "    Parameters for CatBoost.\n",
       "    If  None, all params are set to their defaults.\n",
       "    If  dict, overriding parameters present in dict.\n",
       "\u001b[1;31mFile:\u001b[0m           c:\\users\\user\\anaconda3\\lib\\site-packages\\catboost\\core.py\n",
       "\u001b[1;31mType:\u001b[0m           type\n",
       "\u001b[1;31mSubclasses:\u001b[0m     \n"
      ]
     },
     "metadata": {},
     "output_type": "display_data"
    }
   ],
   "source": [
    "?CatBoostRegressor"
   ]
  },
  {
   "cell_type": "markdown",
   "metadata": {},
   "source": [
    "***Model Tuning***"
   ]
  },
  {
   "cell_type": "code",
   "execution_count": 84,
   "metadata": {},
   "outputs": [],
   "source": [
    "catb_params = {\"iterations\":[200,500,100],\n",
    "              \"learning_rate\":[0.01, 0.1],\n",
    "              \"depth\":[3,6,8]}"
   ]
  },
  {
   "cell_type": "code",
   "execution_count": 85,
   "metadata": {
    "collapsed": true,
    "jupyter": {
     "outputs_hidden": true
    }
   },
   "outputs": [
    {
     "name": "stdout",
     "output_type": "stream",
     "text": [
      "Fitting 5 folds for each of 18 candidates, totalling 90 fits\n"
     ]
    },
    {
     "name": "stderr",
     "output_type": "stream",
     "text": [
      "[Parallel(n_jobs=-1)]: Using backend LokyBackend with 4 concurrent workers.\n",
      "[Parallel(n_jobs=-1)]: Done  33 tasks      | elapsed:   13.7s\n",
      "[Parallel(n_jobs=-1)]: Done  90 out of  90 | elapsed:  1.5min finished\n"
     ]
    },
    {
     "name": "stdout",
     "output_type": "stream",
     "text": [
      "0:\tlearn: 425.7900818\ttotal: 1.57ms\tremaining: 312ms\n",
      "1:\tlearn: 404.8723520\ttotal: 2.8ms\tremaining: 277ms\n",
      "2:\tlearn: 387.4057666\ttotal: 3.84ms\tremaining: 252ms\n",
      "3:\tlearn: 372.2801584\ttotal: 4.92ms\tremaining: 241ms\n",
      "4:\tlearn: 358.9204229\ttotal: 5.74ms\tremaining: 224ms\n",
      "5:\tlearn: 347.0083933\ttotal: 6.44ms\tremaining: 208ms\n",
      "6:\tlearn: 336.0130818\ttotal: 7.13ms\tremaining: 197ms\n",
      "7:\tlearn: 324.3923300\ttotal: 7.87ms\tremaining: 189ms\n",
      "8:\tlearn: 314.8690957\ttotal: 8.58ms\tremaining: 182ms\n",
      "9:\tlearn: 308.5075563\ttotal: 9.34ms\tremaining: 178ms\n",
      "10:\tlearn: 298.8587285\ttotal: 10ms\tremaining: 172ms\n",
      "11:\tlearn: 294.7655438\ttotal: 10.7ms\tremaining: 168ms\n",
      "12:\tlearn: 288.0697862\ttotal: 11.4ms\tremaining: 164ms\n",
      "13:\tlearn: 282.6697154\ttotal: 12.3ms\tremaining: 163ms\n",
      "14:\tlearn: 277.6121667\ttotal: 13.3ms\tremaining: 164ms\n",
      "15:\tlearn: 273.4383979\ttotal: 14ms\tremaining: 161ms\n",
      "16:\tlearn: 269.1556201\ttotal: 14.7ms\tremaining: 159ms\n",
      "17:\tlearn: 264.8098704\ttotal: 15.4ms\tremaining: 156ms\n",
      "18:\tlearn: 261.6700768\ttotal: 16.1ms\tremaining: 153ms\n",
      "19:\tlearn: 257.3961290\ttotal: 17ms\tremaining: 153ms\n",
      "20:\tlearn: 252.2691509\ttotal: 17.7ms\tremaining: 151ms\n",
      "21:\tlearn: 249.0686482\ttotal: 18.4ms\tremaining: 149ms\n",
      "22:\tlearn: 244.1881041\ttotal: 19.1ms\tremaining: 147ms\n",
      "23:\tlearn: 242.1696687\ttotal: 19.8ms\tremaining: 145ms\n",
      "24:\tlearn: 239.2131476\ttotal: 20.6ms\tremaining: 144ms\n",
      "25:\tlearn: 236.6883901\ttotal: 22.2ms\tremaining: 149ms\n",
      "26:\tlearn: 234.5295613\ttotal: 23.6ms\tremaining: 151ms\n",
      "27:\tlearn: 231.7788834\ttotal: 26.3ms\tremaining: 161ms\n",
      "28:\tlearn: 228.8020330\ttotal: 27.2ms\tremaining: 160ms\n",
      "29:\tlearn: 226.8420565\ttotal: 28.1ms\tremaining: 159ms\n",
      "30:\tlearn: 224.0686558\ttotal: 29.1ms\tremaining: 158ms\n",
      "31:\tlearn: 222.6644699\ttotal: 30ms\tremaining: 157ms\n",
      "32:\tlearn: 221.6889573\ttotal: 30.9ms\tremaining: 156ms\n",
      "33:\tlearn: 220.5171653\ttotal: 31.8ms\tremaining: 155ms\n",
      "34:\tlearn: 217.7686033\ttotal: 32.7ms\tremaining: 154ms\n",
      "35:\tlearn: 214.8462789\ttotal: 33.8ms\tremaining: 154ms\n",
      "36:\tlearn: 214.4799251\ttotal: 34.7ms\tremaining: 153ms\n",
      "37:\tlearn: 212.3480429\ttotal: 35.6ms\tremaining: 152ms\n",
      "38:\tlearn: 210.0040644\ttotal: 36.5ms\tremaining: 151ms\n",
      "39:\tlearn: 208.3086913\ttotal: 37.4ms\tremaining: 150ms\n",
      "40:\tlearn: 207.5469119\ttotal: 38.3ms\tremaining: 149ms\n",
      "41:\tlearn: 205.9351113\ttotal: 39.2ms\tremaining: 147ms\n",
      "42:\tlearn: 205.3580824\ttotal: 40.1ms\tremaining: 147ms\n",
      "43:\tlearn: 204.6204266\ttotal: 41.1ms\tremaining: 146ms\n",
      "44:\tlearn: 202.5023220\ttotal: 42ms\tremaining: 145ms\n",
      "45:\tlearn: 201.4347853\ttotal: 42.9ms\tremaining: 144ms\n",
      "46:\tlearn: 200.8752553\ttotal: 44ms\tremaining: 143ms\n",
      "47:\tlearn: 200.4047344\ttotal: 45.1ms\tremaining: 143ms\n",
      "48:\tlearn: 197.5433004\ttotal: 46ms\tremaining: 142ms\n",
      "49:\tlearn: 194.6943292\ttotal: 47.3ms\tremaining: 142ms\n",
      "50:\tlearn: 194.3011982\ttotal: 48.2ms\tremaining: 141ms\n",
      "51:\tlearn: 193.4011843\ttotal: 49.2ms\tremaining: 140ms\n",
      "52:\tlearn: 193.0109753\ttotal: 50.2ms\tremaining: 139ms\n",
      "53:\tlearn: 192.6071142\ttotal: 51.1ms\tremaining: 138ms\n",
      "54:\tlearn: 191.9666153\ttotal: 52.1ms\tremaining: 137ms\n",
      "55:\tlearn: 191.5789727\ttotal: 53.1ms\tremaining: 136ms\n",
      "56:\tlearn: 190.7186284\ttotal: 54.1ms\tremaining: 136ms\n",
      "57:\tlearn: 190.4543087\ttotal: 55ms\tremaining: 135ms\n",
      "58:\tlearn: 190.1336317\ttotal: 55.9ms\tremaining: 134ms\n",
      "59:\tlearn: 188.2286484\ttotal: 56.8ms\tremaining: 133ms\n",
      "60:\tlearn: 187.7652417\ttotal: 57.6ms\tremaining: 131ms\n",
      "61:\tlearn: 187.4227950\ttotal: 58.7ms\tremaining: 131ms\n",
      "62:\tlearn: 186.9289182\ttotal: 59.6ms\tremaining: 130ms\n",
      "63:\tlearn: 185.2993487\ttotal: 60.5ms\tremaining: 129ms\n",
      "64:\tlearn: 185.0349598\ttotal: 61.5ms\tremaining: 128ms\n",
      "65:\tlearn: 183.9773430\ttotal: 62.4ms\tremaining: 127ms\n",
      "66:\tlearn: 183.4463166\ttotal: 63.4ms\tremaining: 126ms\n",
      "67:\tlearn: 181.6627740\ttotal: 64.4ms\tremaining: 125ms\n",
      "68:\tlearn: 179.8785055\ttotal: 65.3ms\tremaining: 124ms\n",
      "69:\tlearn: 179.6737527\ttotal: 66ms\tremaining: 123ms\n",
      "70:\tlearn: 177.0830981\ttotal: 66.9ms\tremaining: 122ms\n",
      "71:\tlearn: 176.5917790\ttotal: 67.7ms\tremaining: 120ms\n",
      "72:\tlearn: 176.1240502\ttotal: 68.5ms\tremaining: 119ms\n",
      "73:\tlearn: 174.4828953\ttotal: 69.3ms\tremaining: 118ms\n",
      "74:\tlearn: 173.4220482\ttotal: 70.1ms\tremaining: 117ms\n",
      "75:\tlearn: 171.9903405\ttotal: 71.5ms\tremaining: 117ms\n",
      "76:\tlearn: 171.5803116\ttotal: 72.4ms\tremaining: 116ms\n",
      "77:\tlearn: 170.1411594\ttotal: 73.2ms\tremaining: 115ms\n",
      "78:\tlearn: 167.9868133\ttotal: 74.1ms\tremaining: 113ms\n",
      "79:\tlearn: 166.5304475\ttotal: 74.9ms\tremaining: 112ms\n",
      "80:\tlearn: 166.1741622\ttotal: 75.6ms\tremaining: 111ms\n",
      "81:\tlearn: 165.8411762\ttotal: 76.3ms\tremaining: 110ms\n",
      "82:\tlearn: 165.1041583\ttotal: 77.1ms\tremaining: 109ms\n",
      "83:\tlearn: 163.5641543\ttotal: 77.9ms\tremaining: 108ms\n",
      "84:\tlearn: 163.2003311\ttotal: 78.8ms\tremaining: 107ms\n",
      "85:\tlearn: 161.1781702\ttotal: 79.8ms\tremaining: 106ms\n",
      "86:\tlearn: 160.8727658\ttotal: 80.7ms\tremaining: 105ms\n",
      "87:\tlearn: 159.7954077\ttotal: 81.6ms\tremaining: 104ms\n",
      "88:\tlearn: 158.8759132\ttotal: 82.5ms\tremaining: 103ms\n",
      "89:\tlearn: 158.4831323\ttotal: 83.2ms\tremaining: 102ms\n",
      "90:\tlearn: 157.4808127\ttotal: 84ms\tremaining: 101ms\n",
      "91:\tlearn: 157.1703230\ttotal: 84.8ms\tremaining: 99.6ms\n",
      "92:\tlearn: 155.3184755\ttotal: 85.6ms\tremaining: 98.5ms\n",
      "93:\tlearn: 154.3988879\ttotal: 86.4ms\tremaining: 97.5ms\n",
      "94:\tlearn: 153.4591935\ttotal: 87.2ms\tremaining: 96.3ms\n",
      "95:\tlearn: 153.1206893\ttotal: 87.9ms\tremaining: 95.3ms\n",
      "96:\tlearn: 152.7897351\ttotal: 88.7ms\tremaining: 94.1ms\n",
      "97:\tlearn: 150.9293164\ttotal: 89.5ms\tremaining: 93.2ms\n",
      "98:\tlearn: 149.7127171\ttotal: 90.4ms\tremaining: 92.3ms\n",
      "99:\tlearn: 149.5089324\ttotal: 91.1ms\tremaining: 91.1ms\n",
      "100:\tlearn: 149.3156312\ttotal: 91.8ms\tremaining: 90ms\n",
      "101:\tlearn: 147.7226718\ttotal: 92.6ms\tremaining: 89ms\n",
      "102:\tlearn: 146.7692282\ttotal: 93.5ms\tremaining: 88ms\n",
      "103:\tlearn: 145.9084983\ttotal: 94.2ms\tremaining: 87ms\n",
      "104:\tlearn: 144.8780979\ttotal: 94.9ms\tremaining: 85.9ms\n",
      "105:\tlearn: 143.8090268\ttotal: 95.7ms\tremaining: 84.9ms\n",
      "106:\tlearn: 143.1272551\ttotal: 96.5ms\tremaining: 83.9ms\n",
      "107:\tlearn: 142.4863018\ttotal: 97.2ms\tremaining: 82.8ms\n",
      "108:\tlearn: 141.4861279\ttotal: 97.9ms\tremaining: 81.7ms\n",
      "109:\tlearn: 140.8689530\ttotal: 98.7ms\tremaining: 80.8ms\n",
      "110:\tlearn: 140.4009570\ttotal: 99.4ms\tremaining: 79.7ms\n",
      "111:\tlearn: 140.0344439\ttotal: 100ms\tremaining: 78.8ms\n",
      "112:\tlearn: 139.4290096\ttotal: 101ms\tremaining: 77.8ms\n",
      "113:\tlearn: 139.2008874\ttotal: 102ms\tremaining: 76.7ms\n",
      "114:\tlearn: 138.6000188\ttotal: 102ms\tremaining: 75.7ms\n",
      "115:\tlearn: 138.3962706\ttotal: 103ms\tremaining: 74.7ms\n",
      "116:\tlearn: 138.1737256\ttotal: 104ms\tremaining: 73.8ms\n",
      "117:\tlearn: 137.6342361\ttotal: 105ms\tremaining: 73.1ms\n",
      "118:\tlearn: 136.7119826\ttotal: 106ms\tremaining: 72.3ms\n",
      "119:\tlearn: 135.3057402\ttotal: 108ms\tremaining: 71.8ms\n",
      "120:\tlearn: 134.4797815\ttotal: 109ms\tremaining: 71.1ms\n",
      "121:\tlearn: 133.0774331\ttotal: 110ms\tremaining: 70.1ms\n",
      "122:\tlearn: 131.8739238\ttotal: 110ms\tremaining: 69.1ms\n",
      "123:\tlearn: 131.3203837\ttotal: 111ms\tremaining: 68.1ms\n",
      "124:\tlearn: 130.8294604\ttotal: 112ms\tremaining: 67.1ms\n",
      "125:\tlearn: 130.6107905\ttotal: 113ms\tremaining: 66.1ms\n",
      "126:\tlearn: 130.1614924\ttotal: 113ms\tremaining: 65.1ms\n",
      "127:\tlearn: 129.3166972\ttotal: 114ms\tremaining: 64.1ms\n",
      "128:\tlearn: 129.1038672\ttotal: 115ms\tremaining: 63.1ms\n",
      "129:\tlearn: 128.9594874\ttotal: 115ms\tremaining: 62.2ms\n",
      "130:\tlearn: 128.1849638\ttotal: 116ms\tremaining: 61.2ms\n",
      "131:\tlearn: 128.0307033\ttotal: 117ms\tremaining: 60.3ms\n",
      "132:\tlearn: 127.3373882\ttotal: 118ms\tremaining: 59.4ms\n",
      "133:\tlearn: 126.2856989\ttotal: 119ms\tremaining: 58.6ms\n",
      "134:\tlearn: 126.1379832\ttotal: 120ms\tremaining: 57.7ms\n",
      "135:\tlearn: 126.0180019\ttotal: 121ms\tremaining: 56.8ms\n",
      "136:\tlearn: 125.8843963\ttotal: 121ms\tremaining: 55.9ms\n",
      "137:\tlearn: 125.7576333\ttotal: 122ms\tremaining: 54.9ms\n",
      "138:\tlearn: 125.4794581\ttotal: 123ms\tremaining: 54ms\n",
      "139:\tlearn: 124.7920270\ttotal: 124ms\tremaining: 53.1ms\n",
      "140:\tlearn: 124.6530278\ttotal: 125ms\tremaining: 52.2ms\n",
      "141:\tlearn: 123.4539010\ttotal: 125ms\tremaining: 51.3ms\n",
      "142:\tlearn: 122.8980001\ttotal: 126ms\tremaining: 50.3ms\n",
      "143:\tlearn: 122.0911177\ttotal: 127ms\tremaining: 49.4ms\n",
      "144:\tlearn: 121.1209154\ttotal: 128ms\tremaining: 48.6ms\n",
      "145:\tlearn: 120.1613553\ttotal: 129ms\tremaining: 47.7ms\n",
      "146:\tlearn: 119.1894727\ttotal: 130ms\tremaining: 46.8ms\n",
      "147:\tlearn: 118.0325732\ttotal: 131ms\tremaining: 45.9ms\n",
      "148:\tlearn: 117.9138240\ttotal: 131ms\tremaining: 44.9ms\n",
      "149:\tlearn: 117.3831462\ttotal: 132ms\tremaining: 44ms\n",
      "150:\tlearn: 116.8475244\ttotal: 133ms\tremaining: 43ms\n",
      "151:\tlearn: 116.3821954\ttotal: 133ms\tremaining: 42.1ms\n",
      "152:\tlearn: 115.5293176\ttotal: 134ms\tremaining: 41.2ms\n",
      "153:\tlearn: 115.0975175\ttotal: 135ms\tremaining: 40.3ms\n",
      "154:\tlearn: 114.0649594\ttotal: 136ms\tremaining: 39.4ms\n",
      "155:\tlearn: 113.2562326\ttotal: 136ms\tremaining: 38.5ms\n",
      "156:\tlearn: 112.7557871\ttotal: 137ms\tremaining: 37.6ms\n",
      "157:\tlearn: 112.5657565\ttotal: 138ms\tremaining: 36.6ms\n",
      "158:\tlearn: 112.3541525\ttotal: 139ms\tremaining: 35.7ms\n",
      "159:\tlearn: 111.8527982\ttotal: 140ms\tremaining: 35ms\n",
      "160:\tlearn: 111.1619644\ttotal: 142ms\tremaining: 34.5ms\n",
      "161:\tlearn: 110.3588257\ttotal: 145ms\tremaining: 33.9ms\n",
      "162:\tlearn: 109.6664293\ttotal: 147ms\tremaining: 33.4ms\n",
      "163:\tlearn: 109.5577303\ttotal: 149ms\tremaining: 32.6ms\n",
      "164:\tlearn: 109.0570285\ttotal: 150ms\tremaining: 31.8ms\n",
      "165:\tlearn: 108.7601467\ttotal: 152ms\tremaining: 31.1ms\n",
      "166:\tlearn: 108.0448620\ttotal: 154ms\tremaining: 30.3ms\n",
      "167:\tlearn: 107.5593372\ttotal: 155ms\tremaining: 29.6ms\n",
      "168:\tlearn: 106.3862999\ttotal: 157ms\tremaining: 28.8ms\n",
      "169:\tlearn: 106.2180807\ttotal: 161ms\tremaining: 28.4ms\n",
      "170:\tlearn: 106.0695603\ttotal: 162ms\tremaining: 27.5ms\n",
      "171:\tlearn: 105.6940213\ttotal: 163ms\tremaining: 26.5ms\n",
      "172:\tlearn: 104.7598987\ttotal: 164ms\tremaining: 25.6ms\n",
      "173:\tlearn: 104.6589992\ttotal: 165ms\tremaining: 24.7ms\n",
      "174:\tlearn: 103.7203657\ttotal: 167ms\tremaining: 23.8ms\n",
      "175:\tlearn: 103.2660987\ttotal: 169ms\tremaining: 23ms\n",
      "176:\tlearn: 103.0926213\ttotal: 170ms\tremaining: 22.1ms\n",
      "177:\tlearn: 102.6925209\ttotal: 172ms\tremaining: 21.3ms\n",
      "178:\tlearn: 102.1655154\ttotal: 173ms\tremaining: 20.4ms\n",
      "179:\tlearn: 101.8273108\ttotal: 175ms\tremaining: 19.4ms\n",
      "180:\tlearn: 101.7264515\ttotal: 177ms\tremaining: 18.5ms\n",
      "181:\tlearn: 101.1102333\ttotal: 178ms\tremaining: 17.6ms\n",
      "182:\tlearn: 100.7880364\ttotal: 179ms\tremaining: 16.7ms\n",
      "183:\tlearn: 100.6673014\ttotal: 181ms\tremaining: 15.7ms\n",
      "184:\tlearn: 100.0153055\ttotal: 183ms\tremaining: 14.8ms\n",
      "185:\tlearn: 99.7667281\ttotal: 185ms\tremaining: 13.9ms\n",
      "186:\tlearn: 99.1860593\ttotal: 186ms\tremaining: 13ms\n",
      "187:\tlearn: 99.0408133\ttotal: 188ms\tremaining: 12ms\n",
      "188:\tlearn: 98.9030718\ttotal: 189ms\tremaining: 11ms\n",
      "189:\tlearn: 97.4513860\ttotal: 190ms\tremaining: 10ms\n",
      "190:\tlearn: 97.3322959\ttotal: 192ms\tremaining: 9.03ms\n",
      "191:\tlearn: 97.1950848\ttotal: 193ms\tremaining: 8.03ms\n",
      "192:\tlearn: 96.6789532\ttotal: 194ms\tremaining: 7.04ms\n",
      "193:\tlearn: 96.5506179\ttotal: 195ms\tremaining: 6.04ms\n",
      "194:\tlearn: 95.6635039\ttotal: 196ms\tremaining: 5.04ms\n",
      "195:\tlearn: 94.8850777\ttotal: 198ms\tremaining: 4.04ms\n",
      "196:\tlearn: 94.1624589\ttotal: 199ms\tremaining: 3.04ms\n",
      "197:\tlearn: 93.8220662\ttotal: 201ms\tremaining: 2.03ms\n",
      "198:\tlearn: 93.7300351\ttotal: 202ms\tremaining: 1.01ms\n",
      "199:\tlearn: 93.3339522\ttotal: 203ms\tremaining: 0us\n"
     ]
    }
   ],
   "source": [
    "catb_cv_model = GridSearchCV(CatBoostRegressor(),catb_params, cv=5, verbose=2, n_jobs=-1).fit(X_train, y_train)"
   ]
  },
  {
   "cell_type": "code",
   "execution_count": 86,
   "metadata": {},
   "outputs": [
    {
     "data": {
      "text/plain": [
       "{'depth': 3, 'iterations': 200, 'learning_rate': 0.1}"
      ]
     },
     "execution_count": 86,
     "metadata": {},
     "output_type": "execute_result"
    }
   ],
   "source": [
    "catb_cv_model.best_params_"
   ]
  },
  {
   "cell_type": "markdown",
   "metadata": {},
   "source": [
    "***Final Model***"
   ]
  },
  {
   "cell_type": "code",
   "execution_count": 87,
   "metadata": {
    "collapsed": true,
    "jupyter": {
     "outputs_hidden": true
    }
   },
   "outputs": [
    {
     "name": "stdout",
     "output_type": "stream",
     "text": [
      "0:\tlearn: 425.7900818\ttotal: 2.77ms\tremaining: 551ms\n",
      "1:\tlearn: 404.8723520\ttotal: 5.75ms\tremaining: 569ms\n",
      "2:\tlearn: 387.4057666\ttotal: 7.17ms\tremaining: 471ms\n",
      "3:\tlearn: 372.2801584\ttotal: 8.58ms\tremaining: 421ms\n",
      "4:\tlearn: 358.9204229\ttotal: 10ms\tremaining: 391ms\n",
      "5:\tlearn: 347.0083933\ttotal: 11.5ms\tremaining: 371ms\n",
      "6:\tlearn: 336.0130818\ttotal: 12.8ms\tremaining: 353ms\n",
      "7:\tlearn: 324.3923300\ttotal: 14.1ms\tremaining: 338ms\n",
      "8:\tlearn: 314.8690957\ttotal: 15.6ms\tremaining: 331ms\n",
      "9:\tlearn: 308.5075563\ttotal: 17ms\tremaining: 323ms\n",
      "10:\tlearn: 298.8587285\ttotal: 18.4ms\tremaining: 316ms\n",
      "11:\tlearn: 294.7655438\ttotal: 19.8ms\tremaining: 310ms\n",
      "12:\tlearn: 288.0697862\ttotal: 21.2ms\tremaining: 305ms\n",
      "13:\tlearn: 282.6697154\ttotal: 22.7ms\tremaining: 301ms\n",
      "14:\tlearn: 277.6121667\ttotal: 24.1ms\tremaining: 297ms\n",
      "15:\tlearn: 273.4383979\ttotal: 25.6ms\tremaining: 295ms\n",
      "16:\tlearn: 269.1556201\ttotal: 27.1ms\tremaining: 292ms\n",
      "17:\tlearn: 264.8098704\ttotal: 28.5ms\tremaining: 289ms\n",
      "18:\tlearn: 261.6700768\ttotal: 29.5ms\tremaining: 281ms\n",
      "19:\tlearn: 257.3961290\ttotal: 30.4ms\tremaining: 274ms\n",
      "20:\tlearn: 252.2691509\ttotal: 31.3ms\tremaining: 266ms\n",
      "21:\tlearn: 249.0686482\ttotal: 32.1ms\tremaining: 260ms\n",
      "22:\tlearn: 244.1881041\ttotal: 33ms\tremaining: 254ms\n",
      "23:\tlearn: 242.1696687\ttotal: 33.8ms\tremaining: 248ms\n",
      "24:\tlearn: 239.2131476\ttotal: 34.7ms\tremaining: 243ms\n",
      "25:\tlearn: 236.6883901\ttotal: 35.6ms\tremaining: 238ms\n",
      "26:\tlearn: 234.5295613\ttotal: 36.4ms\tremaining: 233ms\n",
      "27:\tlearn: 231.7788834\ttotal: 37.3ms\tremaining: 229ms\n",
      "28:\tlearn: 228.8020330\ttotal: 38.2ms\tremaining: 225ms\n",
      "29:\tlearn: 226.8420565\ttotal: 39.1ms\tremaining: 221ms\n",
      "30:\tlearn: 224.0686558\ttotal: 39.9ms\tremaining: 218ms\n",
      "31:\tlearn: 222.6644699\ttotal: 40.8ms\tremaining: 214ms\n",
      "32:\tlearn: 221.6889573\ttotal: 41.7ms\tremaining: 211ms\n",
      "33:\tlearn: 220.5171653\ttotal: 42.5ms\tremaining: 208ms\n",
      "34:\tlearn: 217.7686033\ttotal: 43.4ms\tremaining: 205ms\n",
      "35:\tlearn: 214.8462789\ttotal: 44.2ms\tremaining: 202ms\n",
      "36:\tlearn: 214.4799251\ttotal: 45.2ms\tremaining: 199ms\n",
      "37:\tlearn: 212.3480429\ttotal: 46ms\tremaining: 196ms\n",
      "38:\tlearn: 210.0040644\ttotal: 46.7ms\tremaining: 193ms\n",
      "39:\tlearn: 208.3086913\ttotal: 47.6ms\tremaining: 190ms\n",
      "40:\tlearn: 207.5469119\ttotal: 48.4ms\tremaining: 188ms\n",
      "41:\tlearn: 205.9351113\ttotal: 49.3ms\tremaining: 185ms\n",
      "42:\tlearn: 205.3580824\ttotal: 50.2ms\tremaining: 183ms\n",
      "43:\tlearn: 204.6204266\ttotal: 51ms\tremaining: 181ms\n",
      "44:\tlearn: 202.5023220\ttotal: 51.9ms\tremaining: 179ms\n",
      "45:\tlearn: 201.4347853\ttotal: 52.7ms\tremaining: 176ms\n",
      "46:\tlearn: 200.8752553\ttotal: 53.6ms\tremaining: 174ms\n",
      "47:\tlearn: 200.4047344\ttotal: 54.5ms\tremaining: 172ms\n",
      "48:\tlearn: 197.5433004\ttotal: 55.3ms\tremaining: 170ms\n",
      "49:\tlearn: 194.6943292\ttotal: 56.2ms\tremaining: 169ms\n",
      "50:\tlearn: 194.3011982\ttotal: 57ms\tremaining: 167ms\n",
      "51:\tlearn: 193.4011843\ttotal: 57.9ms\tremaining: 165ms\n",
      "52:\tlearn: 193.0109753\ttotal: 58.7ms\tremaining: 163ms\n",
      "53:\tlearn: 192.6071142\ttotal: 59.6ms\tremaining: 161ms\n",
      "54:\tlearn: 191.9666153\ttotal: 60.3ms\tremaining: 159ms\n",
      "55:\tlearn: 191.5789727\ttotal: 61.2ms\tremaining: 157ms\n",
      "56:\tlearn: 190.7186284\ttotal: 62.1ms\tremaining: 156ms\n",
      "57:\tlearn: 190.4543087\ttotal: 63.7ms\tremaining: 156ms\n",
      "58:\tlearn: 190.1336317\ttotal: 64.8ms\tremaining: 155ms\n",
      "59:\tlearn: 188.2286484\ttotal: 65.7ms\tremaining: 153ms\n",
      "60:\tlearn: 187.7652417\ttotal: 66.5ms\tremaining: 152ms\n",
      "61:\tlearn: 187.4227950\ttotal: 67.5ms\tremaining: 150ms\n",
      "62:\tlearn: 186.9289182\ttotal: 68.5ms\tremaining: 149ms\n",
      "63:\tlearn: 185.2993487\ttotal: 69.2ms\tremaining: 147ms\n",
      "64:\tlearn: 185.0349598\ttotal: 70.1ms\tremaining: 146ms\n",
      "65:\tlearn: 183.9773430\ttotal: 71ms\tremaining: 144ms\n",
      "66:\tlearn: 183.4463166\ttotal: 71.9ms\tremaining: 143ms\n",
      "67:\tlearn: 181.6627740\ttotal: 72.7ms\tremaining: 141ms\n",
      "68:\tlearn: 179.8785055\ttotal: 73.5ms\tremaining: 139ms\n",
      "69:\tlearn: 179.6737527\ttotal: 74.4ms\tremaining: 138ms\n",
      "70:\tlearn: 177.0830981\ttotal: 75.1ms\tremaining: 137ms\n",
      "71:\tlearn: 176.5917790\ttotal: 75.9ms\tremaining: 135ms\n",
      "72:\tlearn: 176.1240502\ttotal: 76.6ms\tremaining: 133ms\n",
      "73:\tlearn: 174.4828953\ttotal: 77.5ms\tremaining: 132ms\n",
      "74:\tlearn: 173.4220482\ttotal: 78.4ms\tremaining: 131ms\n",
      "75:\tlearn: 171.9903405\ttotal: 79.3ms\tremaining: 129ms\n",
      "76:\tlearn: 171.5803116\ttotal: 80.2ms\tremaining: 128ms\n",
      "77:\tlearn: 170.1411594\ttotal: 81ms\tremaining: 127ms\n",
      "78:\tlearn: 167.9868133\ttotal: 81.9ms\tremaining: 125ms\n",
      "79:\tlearn: 166.5304475\ttotal: 82.7ms\tremaining: 124ms\n",
      "80:\tlearn: 166.1741622\ttotal: 83.6ms\tremaining: 123ms\n",
      "81:\tlearn: 165.8411762\ttotal: 84.5ms\tremaining: 122ms\n",
      "82:\tlearn: 165.1041583\ttotal: 85.3ms\tremaining: 120ms\n",
      "83:\tlearn: 163.5641543\ttotal: 86.2ms\tremaining: 119ms\n",
      "84:\tlearn: 163.2003311\ttotal: 87.2ms\tremaining: 118ms\n",
      "85:\tlearn: 161.1781702\ttotal: 88ms\tremaining: 117ms\n",
      "86:\tlearn: 160.8727658\ttotal: 88.9ms\tremaining: 115ms\n",
      "87:\tlearn: 159.7954077\ttotal: 89.7ms\tremaining: 114ms\n",
      "88:\tlearn: 158.8759132\ttotal: 90.5ms\tremaining: 113ms\n",
      "89:\tlearn: 158.4831323\ttotal: 91.3ms\tremaining: 112ms\n",
      "90:\tlearn: 157.4808127\ttotal: 92.1ms\tremaining: 110ms\n",
      "91:\tlearn: 157.1703230\ttotal: 92.9ms\tremaining: 109ms\n",
      "92:\tlearn: 155.3184755\ttotal: 93.7ms\tremaining: 108ms\n",
      "93:\tlearn: 154.3988879\ttotal: 94.4ms\tremaining: 106ms\n",
      "94:\tlearn: 153.4591935\ttotal: 95.1ms\tremaining: 105ms\n",
      "95:\tlearn: 153.1206893\ttotal: 95.7ms\tremaining: 104ms\n",
      "96:\tlearn: 152.7897351\ttotal: 96.5ms\tremaining: 102ms\n",
      "97:\tlearn: 150.9293164\ttotal: 97.2ms\tremaining: 101ms\n",
      "98:\tlearn: 149.7127171\ttotal: 97.8ms\tremaining: 99.8ms\n",
      "99:\tlearn: 149.5089324\ttotal: 98.5ms\tremaining: 98.5ms\n",
      "100:\tlearn: 149.3156312\ttotal: 99.2ms\tremaining: 97.3ms\n",
      "101:\tlearn: 147.7226718\ttotal: 99.9ms\tremaining: 96ms\n",
      "102:\tlearn: 146.7692282\ttotal: 101ms\tremaining: 94.7ms\n",
      "103:\tlearn: 145.9084983\ttotal: 101ms\tremaining: 93.5ms\n",
      "104:\tlearn: 144.8780979\ttotal: 102ms\tremaining: 92.3ms\n",
      "105:\tlearn: 143.8090268\ttotal: 103ms\tremaining: 91.1ms\n",
      "106:\tlearn: 143.1272551\ttotal: 103ms\tremaining: 89.9ms\n",
      "107:\tlearn: 142.4863018\ttotal: 104ms\tremaining: 88.7ms\n",
      "108:\tlearn: 141.4861279\ttotal: 105ms\tremaining: 87.5ms\n",
      "109:\tlearn: 140.8689530\ttotal: 105ms\tremaining: 86.3ms\n",
      "110:\tlearn: 140.4009570\ttotal: 106ms\tremaining: 85.1ms\n",
      "111:\tlearn: 140.0344439\ttotal: 107ms\tremaining: 83.8ms\n",
      "112:\tlearn: 139.4290096\ttotal: 107ms\tremaining: 82.7ms\n",
      "113:\tlearn: 139.2008874\ttotal: 108ms\tremaining: 81.5ms\n",
      "114:\tlearn: 138.6000188\ttotal: 109ms\tremaining: 80.3ms\n",
      "115:\tlearn: 138.3962706\ttotal: 109ms\tremaining: 79.3ms\n",
      "116:\tlearn: 138.1737256\ttotal: 111ms\tremaining: 78.5ms\n",
      "117:\tlearn: 137.6342361\ttotal: 112ms\tremaining: 77.6ms\n",
      "118:\tlearn: 136.7119826\ttotal: 113ms\tremaining: 76.6ms\n",
      "119:\tlearn: 135.3057402\ttotal: 113ms\tremaining: 75.5ms\n",
      "120:\tlearn: 134.4797815\ttotal: 114ms\tremaining: 74.4ms\n",
      "121:\tlearn: 133.0774331\ttotal: 115ms\tremaining: 73.3ms\n",
      "122:\tlearn: 131.8739238\ttotal: 115ms\tremaining: 72.2ms\n",
      "123:\tlearn: 131.3203837\ttotal: 116ms\tremaining: 71ms\n",
      "124:\tlearn: 130.8294604\ttotal: 117ms\tremaining: 69.9ms\n",
      "125:\tlearn: 130.6107905\ttotal: 117ms\tremaining: 68.8ms\n",
      "126:\tlearn: 130.1614924\ttotal: 118ms\tremaining: 67.7ms\n",
      "127:\tlearn: 129.3166972\ttotal: 119ms\tremaining: 66.7ms\n",
      "128:\tlearn: 129.1038672\ttotal: 119ms\tremaining: 65.7ms\n",
      "129:\tlearn: 128.9594874\ttotal: 120ms\tremaining: 64.7ms\n",
      "130:\tlearn: 128.1849638\ttotal: 121ms\tremaining: 63.6ms\n",
      "131:\tlearn: 128.0307033\ttotal: 122ms\tremaining: 62.6ms\n",
      "132:\tlearn: 127.3373882\ttotal: 122ms\tremaining: 61.6ms\n",
      "133:\tlearn: 126.2856989\ttotal: 123ms\tremaining: 60.5ms\n",
      "134:\tlearn: 126.1379832\ttotal: 124ms\tremaining: 59.5ms\n",
      "135:\tlearn: 126.0180019\ttotal: 124ms\tremaining: 58.5ms\n",
      "136:\tlearn: 125.8843963\ttotal: 125ms\tremaining: 57.4ms\n",
      "137:\tlearn: 125.7576333\ttotal: 125ms\tremaining: 56.4ms\n",
      "138:\tlearn: 125.4794581\ttotal: 126ms\tremaining: 55.3ms\n",
      "139:\tlearn: 124.7920270\ttotal: 127ms\tremaining: 54.3ms\n",
      "140:\tlearn: 124.6530278\ttotal: 127ms\tremaining: 53.3ms\n",
      "141:\tlearn: 123.4539010\ttotal: 128ms\tremaining: 52.3ms\n",
      "142:\tlearn: 122.8980001\ttotal: 129ms\tremaining: 51.3ms\n",
      "143:\tlearn: 122.0911177\ttotal: 129ms\tremaining: 50.3ms\n",
      "144:\tlearn: 121.1209154\ttotal: 130ms\tremaining: 49.3ms\n",
      "145:\tlearn: 120.1613553\ttotal: 131ms\tremaining: 48.5ms\n",
      "146:\tlearn: 119.1894727\ttotal: 132ms\tremaining: 47.5ms\n",
      "147:\tlearn: 118.0325732\ttotal: 132ms\tremaining: 46.5ms\n",
      "148:\tlearn: 117.9138240\ttotal: 134ms\tremaining: 45.7ms\n",
      "149:\tlearn: 117.3831462\ttotal: 134ms\tremaining: 44.8ms\n",
      "150:\tlearn: 116.8475244\ttotal: 136ms\tremaining: 44ms\n",
      "151:\tlearn: 116.3821954\ttotal: 136ms\tremaining: 43.1ms\n",
      "152:\tlearn: 115.5293176\ttotal: 137ms\tremaining: 42.1ms\n",
      "153:\tlearn: 115.0975175\ttotal: 138ms\tremaining: 41.2ms\n",
      "154:\tlearn: 114.0649594\ttotal: 139ms\tremaining: 40.2ms\n",
      "155:\tlearn: 113.2562326\ttotal: 139ms\tremaining: 39.3ms\n",
      "156:\tlearn: 112.7557871\ttotal: 140ms\tremaining: 38.3ms\n",
      "157:\tlearn: 112.5657565\ttotal: 141ms\tremaining: 37.4ms\n",
      "158:\tlearn: 112.3541525\ttotal: 141ms\tremaining: 36.4ms\n",
      "159:\tlearn: 111.8527982\ttotal: 142ms\tremaining: 35.5ms\n",
      "160:\tlearn: 111.1619644\ttotal: 143ms\tremaining: 34.5ms\n",
      "161:\tlearn: 110.3588257\ttotal: 143ms\tremaining: 33.6ms\n",
      "162:\tlearn: 109.6664293\ttotal: 144ms\tremaining: 32.7ms\n",
      "163:\tlearn: 109.5577303\ttotal: 145ms\tremaining: 31.7ms\n",
      "164:\tlearn: 109.0570285\ttotal: 145ms\tremaining: 30.8ms\n",
      "165:\tlearn: 108.7601467\ttotal: 146ms\tremaining: 29.9ms\n",
      "166:\tlearn: 108.0448620\ttotal: 147ms\tremaining: 29ms\n",
      "167:\tlearn: 107.5593372\ttotal: 147ms\tremaining: 28ms\n",
      "168:\tlearn: 106.3862999\ttotal: 148ms\tremaining: 27.1ms\n",
      "169:\tlearn: 106.2180807\ttotal: 148ms\tremaining: 26.2ms\n",
      "170:\tlearn: 106.0695603\ttotal: 149ms\tremaining: 25.3ms\n",
      "171:\tlearn: 105.6940213\ttotal: 150ms\tremaining: 24.4ms\n",
      "172:\tlearn: 104.7598987\ttotal: 151ms\tremaining: 23.5ms\n",
      "173:\tlearn: 104.6589992\ttotal: 151ms\tremaining: 22.6ms\n",
      "174:\tlearn: 103.7203657\ttotal: 152ms\tremaining: 21.7ms\n",
      "175:\tlearn: 103.2660987\ttotal: 153ms\tremaining: 20.8ms\n",
      "176:\tlearn: 103.0926213\ttotal: 153ms\tremaining: 19.9ms\n",
      "177:\tlearn: 102.6925209\ttotal: 154ms\tremaining: 19ms\n",
      "178:\tlearn: 102.1655154\ttotal: 155ms\tremaining: 18.1ms\n",
      "179:\tlearn: 101.8273108\ttotal: 155ms\tremaining: 17.3ms\n",
      "180:\tlearn: 101.7264515\ttotal: 156ms\tremaining: 16.4ms\n",
      "181:\tlearn: 101.1102333\ttotal: 157ms\tremaining: 15.5ms\n",
      "182:\tlearn: 100.7880364\ttotal: 157ms\tremaining: 14.6ms\n",
      "183:\tlearn: 100.6673014\ttotal: 158ms\tremaining: 13.7ms\n",
      "184:\tlearn: 100.0153055\ttotal: 159ms\tremaining: 12.9ms\n",
      "185:\tlearn: 99.7667281\ttotal: 159ms\tremaining: 12ms\n",
      "186:\tlearn: 99.1860593\ttotal: 160ms\tremaining: 11.1ms\n",
      "187:\tlearn: 99.0408133\ttotal: 161ms\tremaining: 10.3ms\n",
      "188:\tlearn: 98.9030718\ttotal: 161ms\tremaining: 9.39ms\n",
      "189:\tlearn: 97.4513860\ttotal: 162ms\tremaining: 8.54ms\n",
      "190:\tlearn: 97.3322959\ttotal: 163ms\tremaining: 7.69ms\n",
      "191:\tlearn: 97.1950848\ttotal: 164ms\tremaining: 6.83ms\n",
      "192:\tlearn: 96.6789532\ttotal: 165ms\tremaining: 5.97ms\n",
      "193:\tlearn: 96.5506179\ttotal: 165ms\tremaining: 5.11ms\n",
      "194:\tlearn: 95.6635039\ttotal: 166ms\tremaining: 4.26ms\n",
      "195:\tlearn: 94.8850777\ttotal: 167ms\tremaining: 3.4ms\n",
      "196:\tlearn: 94.1624589\ttotal: 167ms\tremaining: 2.55ms\n",
      "197:\tlearn: 93.8220662\ttotal: 168ms\tremaining: 1.7ms\n",
      "198:\tlearn: 93.7300351\ttotal: 169ms\tremaining: 847us\n",
      "199:\tlearn: 93.3339522\ttotal: 169ms\tremaining: 0us\n"
     ]
    },
    {
     "data": {
      "text/plain": [
       "344.3125832615482"
      ]
     },
     "execution_count": 87,
     "metadata": {},
     "output_type": "execute_result"
    }
   ],
   "source": [
    "catb_tuned= CatBoostRegressor(depth=3,iterations=200,learning_rate=0.1).fit(X_train, y_train)\n",
    "y_pred = catb_tuned.predict(X_test)\n",
    "np.sqrt(mean_squared_error(y_test, y_pred))"
   ]
  },
  {
   "cell_type": "code",
   "execution_count": null,
   "metadata": {},
   "outputs": [],
   "source": []
  }
 ],
 "metadata": {
  "kernelspec": {
   "display_name": "Python 3",
   "language": "python",
   "name": "python3"
  },
  "language_info": {
   "codemirror_mode": {
    "name": "ipython",
    "version": 3
   },
   "file_extension": ".py",
   "mimetype": "text/x-python",
   "name": "python",
   "nbconvert_exporter": "python",
   "pygments_lexer": "ipython3",
   "version": "3.7.1"
  }
 },
 "nbformat": 4,
 "nbformat_minor": 4
}
